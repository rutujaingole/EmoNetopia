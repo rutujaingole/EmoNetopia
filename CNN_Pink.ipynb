{
  "nbformat": 4,
  "nbformat_minor": 0,
  "metadata": {
    "colab": {
      "provenance": []
    },
    "kernelspec": {
      "name": "python3",
      "display_name": "Python 3"
    },
    "language_info": {
      "name": "python"
    }
  },
  "cells": [
    {
      "cell_type": "code",
      "execution_count": 1,
      "metadata": {
        "id": "lHK7gioO_6EY"
      },
      "outputs": [],
      "source": [
        "import torch\n",
        "import torch.nn as nn\n",
        "import matplotlib.pyplot as plt\n",
        "import numpy as np\n",
        "import pandas as pd\n",
        "import os,glob\n",
        "import librosa\n",
        "import librosa.display\n",
        "import IPython\n",
        "from IPython.display import Audio\n",
        "from IPython.display import Image\n",
        "import warnings; warnings.filterwarnings('ignore')"
      ]
    },
    {
      "cell_type": "code",
      "source": [
        "from google.colab import drive\n",
        "drive.mount('/content/drive')"
      ],
      "metadata": {
        "colab": {
          "base_uri": "https://localhost:8080/"
        },
        "id": "XKFXHvJDCLyc",
        "outputId": "29db5251-0810-4151-b098-cfcf53f1e533"
      },
      "execution_count": 2,
      "outputs": [
        {
          "output_type": "stream",
          "name": "stdout",
          "text": [
            "Mounted at /content/drive\n"
          ]
        }
      ]
    },
    {
      "cell_type": "code",
      "source": [
        "!cp '/content/drive/MyDrive/content/RAVDESS.zip' .\n",
        "!unzip -q RAVDESS.zip"
      ],
      "metadata": {
        "id": "Yz9wcXR2CN_P"
      },
      "execution_count": 3,
      "outputs": []
    },
    {
      "cell_type": "code",
      "source": [],
      "metadata": {
        "id": "UCV2PNKzDofy"
      },
      "execution_count": null,
      "outputs": []
    },
    {
      "cell_type": "code",
      "source": [
        "sample_rate=48000\n",
        "def feature_melspectrogram(\n",
        "    waveform,\n",
        "    sample_rate,\n",
        "    fft = 1024,\n",
        "    winlen = 512,\n",
        "    window='hamming',\n",
        "    hop=256,\n",
        "    mels=128,\n",
        "    ):\n",
        "\n",
        "    # Produce the mel spectrogram for all STFT frames and get the mean of each column of the resulting matrix to create a feature array\n",
        "    # Using 8khz as upper frequency bound should be enough for most speech classification tasks\n",
        "    melspectrogram = librosa.feature.melspectrogram(\n",
        "        y=waveform,\n",
        "        sr=sample_rate,\n",
        "        n_fft=fft,\n",
        "        win_length=winlen,\n",
        "        window=window,\n",
        "        hop_length=hop,\n",
        "        n_mels=mels,\n",
        "        fmax=sample_rate/2)\n",
        "\n",
        "    # convert from power (amplitude**2) to decibels\n",
        "    # necessary for network to learn - doesn't converge with raw power spectrograms\n",
        "    melspectrogram = librosa.power_to_db(melspectrogram, ref=np.max)\n",
        "\n",
        "    return melspectrogram\n",
        "\n",
        "def feature_mfcc(\n",
        "    waveform,\n",
        "    sample_rate,\n",
        "    n_mfcc = 40,\n",
        "    fft = 1024,\n",
        "    winlen = 512,\n",
        "    window='hamming',\n",
        "    #hop=256, # increases # of time steps; was not helpful\n",
        "    mels=128\n",
        "    ):\n",
        "\n",
        "    # Compute the MFCCs for all STFT frames\n",
        "    # 40 mel filterbanks (n_mfcc) = 40 coefficients\n",
        "    mfc_coefficients=librosa.feature.mfcc(\n",
        "        y=waveform,\n",
        "        sr=sample_rate,\n",
        "        n_mfcc=n_mfcc,\n",
        "        n_fft=fft,\n",
        "        win_length=winlen,\n",
        "        window=window,\n",
        "        #hop_length=hop,\n",
        "        n_mels=mels,\n",
        "        fmax=sample_rate/2\n",
        "        )\n",
        "\n",
        "    return mfc_coefficients\n",
        "\n",
        "def get_features(waveforms, features, samplerate):\n",
        "\n",
        "    # initialize counter to track progress\n",
        "    file_count = 0\n",
        "\n",
        "    # process each waveform individually to get its MFCCs\n",
        "    for waveform in waveforms:\n",
        "        mfccs = feature_mfcc(waveform, sample_rate)\n",
        "        features.append(mfccs)\n",
        "        file_count += 1\n",
        "\n",
        "        # print progress\n",
        "        print('\\r'+f' Processed {file_count}/{len(waveforms)} waveforms',end='')\n",
        "\n",
        "    # return all features from list of waveforms\n",
        "    return features\n",
        "\n",
        "def get_waveforms(file):\n",
        "\n",
        "    # load an individual sample audio file\n",
        "    # read the full 3 seconds of the file, cut off the first 0.5s of silence; native sample rate = 48k\n",
        "    # don't need to store the sample rate that librosa.load returns\n",
        "    waveform, _ = librosa.load(file, duration=3, offset=0.5, sr=sample_rate)\n",
        "\n",
        "    # make sure waveform vectors are homogenous by defining explicitly\n",
        "    waveform_homo = np.zeros((int(sample_rate*3,)))\n",
        "    waveform_homo[:len(waveform)] = waveform\n",
        "\n",
        "    # return a single file's waveform\n",
        "    return waveform_homo\n",
        "\n",
        "# RAVDESS dataset emotions\n",
        "# shift emotions left to be 0 indexed for PyTorch\n",
        "emotions_dict ={\n",
        "    '0':'surprised',\n",
        "    '1':'neutral',\n",
        "    '2':'calm',\n",
        "    '3':'happy',\n",
        "    '4':'sad',\n",
        "    '5':'angry',\n",
        "    '6':'fearful',\n",
        "    '7':'disgust'\n",
        "}\n",
        "\n",
        "# Additional attributes from RAVDESS to play with\n",
        "emotion_attributes = {\n",
        "    '01': 'normal',\n",
        "    '02': 'strong'\n",
        "}\n"
      ],
      "metadata": {
        "id": "infgRdAiLjNq"
      },
      "execution_count": 34,
      "outputs": []
    },
    {
      "cell_type": "code",
      "source": [],
      "metadata": {
        "id": "9sPbaXDwDq1J"
      },
      "execution_count": null,
      "outputs": []
    },
    {
      "cell_type": "code",
      "source": [
        "\n",
        "data_path='./Actor_*/*.wav'\n",
        "def load_data():\n",
        "  print('hlo')\n",
        "  emotions=[]\n",
        "  waveforms=[]\n",
        "  intensities,genders=[],[]\n",
        "  file_count=0\n",
        "  for file in glob.glob(data_path):\n",
        "    file_name=os.path.basename(file)\n",
        "    emotion=int(file_name.split(\"-\")[2])\n",
        "    if emotion==8: emotion=0\n",
        "    intensity=emotion_attributes[file_name.split(\"-\")[3]]\n",
        "    if(int((file_name.split(\"-\")[6]).split(\".\")[0]))%2==0:\n",
        "      gender='female'\n",
        "    else:\n",
        "      gender='male'\n",
        "    waveform=get_waveforms(file)\n",
        "    waveforms.append(waveform)\n",
        "    emotions.append(emotion)\n",
        "    intensities.append(intensity)\n",
        "    genders.append(gender)\n",
        "    file_count+=1\n",
        "    print('\\r'+f' Processed{file_count}/{1440} audio samples',end='')\n",
        "  return waveforms, emotions, intensities, genders"
      ],
      "metadata": {
        "id": "Rusjn6IkaC5c"
      },
      "execution_count": 35,
      "outputs": []
    },
    {
      "cell_type": "code",
      "source": [
        "waveforms,emotions,intensities,genders=[],[],[],[]\n",
        "waveforms,emotions,intensities, genders=load_data()"
      ],
      "metadata": {
        "colab": {
          "base_uri": "https://localhost:8080/"
        },
        "id": "TjI7cZp9Dtuo",
        "outputId": "e47efa1f-baa7-4cd7-c6e6-4367dc8366eb"
      },
      "execution_count": 36,
      "outputs": [
        {
          "output_type": "stream",
          "name": "stdout",
          "text": [
            "hlo\n",
            " Processed1440/1440 audio samples"
          ]
        }
      ]
    },
    {
      "cell_type": "code",
      "source": [
        "print(f'Waveforms set: {len(waveforms)} samples')\n",
        "\n",
        "print(f'Waveform signal length: {len(waveforms[0])}')\n",
        "print(f'Emotions set: {len(emotions)} sample labels')"
      ],
      "metadata": {
        "colab": {
          "base_uri": "https://localhost:8080/"
        },
        "id": "zSImgg8SDv_f",
        "outputId": "45a15edf-8c24-45da-e192-c7a106cc2b2e"
      },
      "execution_count": 37,
      "outputs": [
        {
          "output_type": "stream",
          "name": "stdout",
          "text": [
            "Waveforms set: 1440 samples\n",
            "Waveform signal length: 144000\n",
            "Emotions set: 1440 sample labels\n"
          ]
        }
      ]
    },
    {
      "cell_type": "code",
      "source": [],
      "metadata": {
        "id": "gKyPx1QyD5Nx"
      },
      "execution_count": null,
      "outputs": []
    },
    {
      "cell_type": "code",
      "source": [
        "train_set, valid_set, test_set=[],[],[]\n",
        "X_train,X_valid,X_test=[],[],[]\n",
        "y_train,y_valid,y_test = [],[],[]\n",
        "waveforms=np.array(waveforms)\n",
        "for emotion_num in range(len(emotions_dict)):\n",
        "  emotion_indices=[index for index, emotion in enumerate(emotions) if emotion==emotion_num]\n",
        "  np.random.seed(69)\n",
        "  emotion_indices=np.random.permutation(emotion_indices)\n",
        "  dim=len(emotion_indices)\n",
        "    # train set is first 80%\n",
        "  train_indices = emotion_indices[:int(0.8*dim)]\n",
        "    # validation set is next 10% (between 80% and 90%)\n",
        "  valid_indices = emotion_indices[int(0.8*dim):int(0.9*dim)]\n",
        "    # test set is last 10% (between 90% - end/100%)\n",
        "  test_indices = emotion_indices[int(0.9*dim):]\n",
        "\n",
        "  X_train.append(waveforms[train_indices,:])\n",
        "  y_train.append(np.array([emotion_num]*len(train_indices),dtype=np.int32))\n",
        "    # create validation waveforms/labels sets\n",
        "  X_valid.append(waveforms[valid_indices,:])\n",
        "  y_valid.append(np.array([emotion_num]*len(valid_indices),dtype=np.int32))\n",
        "    # create test waveforms/labels sets\n",
        "  X_test.append(waveforms[test_indices,:])\n",
        "  y_test.append(np.array([emotion_num]*len(test_indices),dtype=np.int32))\n",
        "\n",
        "    # store indices for each emotion set to verify uniqueness between sets\n",
        "  train_set.append(train_indices)\n",
        "  valid_set.append(valid_indices)\n",
        "  test_set.append(test_indices)\n",
        "# concatenate, in order, all waveforms back into one array\n",
        "X_train = np.concatenate(X_train,axis=0)\n",
        "X_valid = np.concatenate(X_valid,axis=0)\n",
        "X_test = np.concatenate(X_test,axis=0)\n",
        "\n",
        "# concatenate, in order, all emotions back into one array\n",
        "y_train = np.concatenate(y_train,axis=0)\n",
        "y_valid = np.concatenate(y_valid,axis=0)\n",
        "y_test = np.concatenate(y_test,axis=0)\n",
        "\n",
        "# combine and store indices for all emotions' train, validation, test sets to verify uniqueness of sets\n",
        "train_set = np.concatenate(train_set,axis=0)\n",
        "valid_set = np.concatenate(valid_set,axis=0)\n",
        "test_set = np.concatenate(test_set,axis=0)\n",
        "\n",
        "# check shape of each set\n",
        "print(f'Training waveforms:{X_train.shape}, y_train:{y_train.shape}')\n",
        "print(f'Validation waveforms:{X_valid.shape}, y_valid:{y_valid.shape}')\n",
        "print(f'Test waveforms:{X_test.shape}, y_test:{y_test.shape}')\n",
        "\n",
        "uniques, count=np.unique(np.concatenate([train_set,test_set,valid_set],axis=0), return_counts=True)\n",
        "if sum(count==1) == len(emotions):\n",
        "    print(f'\\nSets are unique: {sum(count==1)} samples out of {len(emotions)} are unique')\n",
        "else:\n",
        "    print(f'\\nSets are NOT unique: {sum(count==1)} samples out of {len(emotions)} are unique')"
      ],
      "metadata": {
        "id": "ysqAk3kK_tqE",
        "colab": {
          "base_uri": "https://localhost:8080/"
        },
        "outputId": "90bdd1ef-6efd-4eed-fbaa-307858ce2575"
      },
      "execution_count": 39,
      "outputs": [
        {
          "output_type": "stream",
          "name": "stdout",
          "text": [
            "Training waveforms:(1147, 144000), y_train:(1147,)\n",
            "Validation waveforms:(143, 144000), y_valid:(143,)\n",
            "Test waveforms:(150, 144000), y_test:(150,)\n",
            "\n",
            "Sets are unique: 1440 samples out of 1440 are unique\n"
          ]
        }
      ]
    },
    {
      "cell_type": "code",
      "source": [],
      "metadata": {
        "id": "Q92Cxz7DD5wP"
      },
      "execution_count": null,
      "outputs": []
    },
    {
      "cell_type": "code",
      "source": [
        "train_set, valid_set, test_set=[],[],[]\n",
        "X_train,X_valid,X_test=[],[],[]\n",
        "y_train,y_valid,y_test = [],[],[]\n",
        "waveforms=np.array(waveforms)\n",
        "for emotion_num in range(len(emotions_dict)):\n",
        "  emotion_indices=[index for index, emotion in enumerate(emotions) if emotion==emotion_num]\n",
        "  np.random.seed(69)\n",
        "  emotion_indices=np.random.permutation(emotion_indices)\n",
        "  dim=len(emotion_indices)\n",
        "    # train set is first 80%\n",
        "  train_indices = emotion_indices[:int(0.8*dim)]\n",
        "    # validation set is next 10% (between 80% and 90%)\n",
        "  valid_indices = emotion_indices[int(0.8*dim):int(0.9*dim)]\n",
        "    # test set is last 10% (between 90% - end/100%)\n",
        "  test_indices = emotion_indices[int(0.9*dim):]\n",
        "\n",
        "  X_train.append(waveforms[train_indices,:])\n",
        "  y_train.append(np.array([emotion_num]*len(train_indices),dtype=np.int32))\n",
        "    # create validation waveforms/labels sets\n",
        "  X_valid.append(waveforms[valid_indices,:])\n",
        "  y_valid.append(np.array([emotion_num]*len(valid_indices),dtype=np.int32))\n",
        "    # create test waveforms/labels sets\n",
        "  X_test.append(waveforms[test_indices,:])\n",
        "  y_test.append(np.array([emotion_num]*len(test_indices),dtype=np.int32))\n",
        "\n",
        "    # store indices for each emotion set to verify uniqueness between sets\n",
        "  train_set.append(train_indices)\n",
        "  valid_set.append(valid_indices)\n",
        "  test_set.append(test_indices)\n",
        "# concatenate, in order, all waveforms back into one array\n",
        "X_train = np.concatenate(X_train,axis=0)\n",
        "X_valid = np.concatenate(X_valid,axis=0)\n",
        "X_test = np.concatenate(X_test,axis=0)\n",
        "\n",
        "# concatenate, in order, all emotions back into one array\n",
        "y_train = np.concatenate(y_train,axis=0)\n",
        "y_valid = np.concatenate(y_valid,axis=0)\n",
        "y_test = np.concatenate(y_test,axis=0)\n",
        "\n",
        "# combine and store indices for all emotions' train, validation, test sets to verify uniqueness of sets\n",
        "train_set = np.concatenate(train_set,axis=0)\n",
        "valid_set = np.concatenate(valid_set,axis=0)\n",
        "test_set = np.concatenate(test_set,axis=0)\n",
        "\n",
        "# check shape of each set\n",
        "print(f'Training waveforms:{X_train.shape}, y_train:{y_train.shape}')\n",
        "print(f'Validation waveforms:{X_valid.shape}, y_valid:{y_valid.shape}')\n",
        "print(f'Test waveforms:{X_test.shape}, y_test:{y_test.shape}')\n",
        "\n",
        "uniques, count=np.unique(np.concatenate([train_set,test_set,valid_set],axis=0), return_counts=True)\n",
        "if sum(count==1) == len(emotions):\n",
        "    print(f'\\nSets are unique: {sum(count==1)} samples out of {len(emotions)} are unique')\n",
        "else:\n",
        "    print(f'\\nSets are NOT unique: {sum(count==1)} samples out of {len(emotions)} are unique')"
      ],
      "metadata": {
        "id": "az-am1Tzdl8h",
        "colab": {
          "base_uri": "https://localhost:8080/"
        },
        "outputId": "8a78092c-eb63-4e98-b62b-f0046cfcacb9"
      },
      "execution_count": 40,
      "outputs": [
        {
          "output_type": "stream",
          "name": "stdout",
          "text": [
            "Training waveforms:(1147, 144000), y_train:(1147,)\n",
            "Validation waveforms:(143, 144000), y_valid:(143,)\n",
            "Test waveforms:(150, 144000), y_test:(150,)\n",
            "\n",
            "Sets are unique: 1440 samples out of 1440 are unique\n"
          ]
        }
      ]
    },
    {
      "cell_type": "code",
      "source": [],
      "metadata": {
        "id": "44G_VWY4D8_X"
      },
      "execution_count": null,
      "outputs": []
    },
    {
      "cell_type": "code",
      "source": [
        "# initialize feature arrays\n",
        "# We extract MFCC features from waveforms and store in respective 'features' array\n",
        "features_train, features_valid, features_test = [],[],[]\n",
        "\n",
        "print('Train waveforms:') # get training set features\n",
        "features_train = get_features(X_train, features_train, sample_rate)\n",
        "\n",
        "print('\\n\\nValidation waveforms:') # get validation set features\n",
        "features_valid = get_features(X_valid, features_valid, sample_rate)\n",
        "\n",
        "print('\\n\\nTest waveforms:') # get test set features\n",
        "features_test = get_features(X_test, features_test, sample_rate)\n",
        "\n",
        "print(f'\\n\\nFeatures set: {len(features_train)+len(features_test)+len(features_valid)} total, {len(features_train)} train, {len(features_valid)} validation, {len(features_test)} test samples')\n",
        "\n",
        "print(f'Features (MFC coefficient matrix) shape: {len(features_train[0])} mel frequency coefficients x {len(features_train[0][1])} time steps')"
      ],
      "metadata": {
        "id": "fp-7CciN_-pG",
        "colab": {
          "base_uri": "https://localhost:8080/"
        },
        "outputId": "be5730d9-8ad6-4e97-bd66-0c701b51a78e"
      },
      "execution_count": 41,
      "outputs": [
        {
          "output_type": "stream",
          "name": "stdout",
          "text": [
            "Train waveforms:\n",
            " Processed 1147/1147 waveforms\n",
            "\n",
            "Validation waveforms:\n",
            " Processed 143/143 waveforms\n",
            "\n",
            "Test waveforms:\n",
            " Processed 150/150 waveforms\n",
            "\n",
            "Features set: 1440 total, 1147 train, 143 validation, 150 test samples\n",
            "Features (MFC coefficient matrix) shape: 40 mel frequency coefficients x 282 time steps\n"
          ]
        }
      ]
    },
    {
      "cell_type": "code",
      "source": [
        "import numpy as np\n",
        "import scipy.signal\n",
        "import matplotlib.pyplot as plt\n",
        "\n",
        "def awgn_augmentation(waveform, multiples=2, bits=16, snr_min=0, snr_max=30):\n",
        "    wave_len = len(waveform)\n",
        "\n",
        "    noise = np.random.normal(0, 1, size=(multiples, wave_len))\n",
        "\n",
        "    def generate_pink_noise(length):\n",
        "      num_columns = int(np.ceil(np.log2(length)))\n",
        "      random_values = np.random.normal(0, 1, size=(length, num_columns))\n",
        "      cumulative_sum = np.cumsum(random_values, axis=0)\n",
        "      exponent = np.tile(np.arange(1, num_columns + 1), (length, 1))\n",
        "      pink_noise = np.sum(cumulative_sum / (2.0 ** exponent), axis=1)\n",
        "      pink_noise /= np.max(np.abs(pink_noise))\n",
        "      return pink_noise\n",
        "\n",
        "\n",
        "    noise = generate_pink_noise(wave_len) * noise\n",
        "\n",
        "\n",
        "    norm_constant = 2.0 ** (bits - 1)\n",
        "    norm_wave = waveform / norm_constant\n",
        "    norm_noise = noise / norm_constant\n",
        "\n",
        "    signal_power = np.sum(norm_wave ** 2) / wave_len\n",
        "    noise_power = np.sum(norm_noise ** 2, axis=1) / wave_len\n",
        "\n",
        "    snr = 0\n",
        "\n",
        "    covariance = np.sqrt((signal_power / noise_power) * 10 ** (-snr / 10))\n",
        "    covariance = np.ones((wave_len, multiples)) * covariance\n",
        "\n",
        "    multiple_augmented_waveforms = waveform + covariance.T * noise\n",
        "\n",
        "    return multiple_augmented_waveforms\n",
        "\n"
      ],
      "metadata": {
        "id": "Bz0Vw9wfEAgt"
      },
      "execution_count": 42,
      "outputs": []
    },
    {
      "cell_type": "code",
      "source": [],
      "metadata": {
        "id": "sahPGpSREOwc"
      },
      "execution_count": null,
      "outputs": []
    },
    {
      "cell_type": "code",
      "source": [
        "def augment_waveforms(waveforms, features, emotions, multiples):\n",
        "\n",
        "    emotion_count = 0\n",
        "\n",
        "    added_count = 0\n",
        "    emotions = emotions.tolist()\n",
        "\n",
        "    for waveform in waveforms:\n",
        "\n",
        "        # Generate 2 augmented multiples of the dataset, i.e. 1440 native + 1440*2 noisy = 4320 samples total\n",
        "        augmented_waveforms = awgn_augmentation(waveform, multiples=multiples)\n",
        "\n",
        "        # compute spectrogram for each of 2 augmented waveforms\n",
        "        for augmented_waveform in augmented_waveforms:\n",
        "\n",
        "            # Compute MFCCs over augmented waveforms\n",
        "            augmented_mfcc = feature_mfcc(augmented_waveform, sample_rate=sample_rate)\n",
        "\n",
        "            # append the augmented spectrogram to the rest of the native data\n",
        "            features.append(augmented_mfcc)\n",
        "            emotions.append(emotions[emotion_count])\n",
        "\n",
        "            # keep track of new augmented samples\n",
        "            added_count += 1\n",
        "\n",
        "            # check progress\n",
        "            print('\\r'+f'Processed {emotion_count + 1}/{len(waveforms)} waveforms for {added_count}/{len(waveforms)*multiples} new augmented samples',end='')\n",
        "\n",
        "        # keep track of the emotion labels to append in order\n",
        "        emotion_count += 1\n",
        "\n",
        "        # store augmented waveforms to check their shape\n",
        "        augmented_waveforms_temp.append(augmented_waveforms)\n",
        "\n",
        "    return features, emotions"
      ],
      "metadata": {
        "id": "kB_30OmqCwl1"
      },
      "execution_count": 43,
      "outputs": []
    },
    {
      "cell_type": "code",
      "source": [],
      "metadata": {
        "id": "B7Xrrt81EShD"
      },
      "execution_count": null,
      "outputs": []
    },
    {
      "cell_type": "code",
      "source": [
        "augmented_waveforms_temp = []\n",
        "\n",
        "# specify multiples of our dataset to add as augmented data\n",
        "multiples = 2 #four fold data augmentation\n",
        "\n",
        "print('Train waveforms:') # augment waveforms of training set\n",
        "features_train , y_train = augment_waveforms(X_train, features_train, y_train, multiples)\n",
        "\n",
        "print('\\n\\nValidation waveforms:') # augment waveforms of validation set\n",
        "features_valid, y_valid = augment_waveforms(X_valid, features_valid, y_valid, multiples)\n",
        "\n",
        "print('\\n\\nTest waveforms:') # augment waveforms of test set\n",
        "features_test, y_test = augment_waveforms(X_test, features_test, y_test, multiples)\n",
        "\n",
        "# Check new shape of extracted features and data:\n",
        "print(f'\\n\\nNative + Augmented Features set: {len(features_train)+len(features_test)+len(features_valid)} total, {len(features_train)} train, {len(features_valid)} validation, {len(features_test)} test samples')\n",
        "print(f'{len(y_train)} training sample labels, {len(y_valid)} validation sample labels, {len(y_test)} test sample labels')\n",
        "print(f'Features (MFCC matrix) shape: {len(features_train[0])} mel frequency coefficients x {len(features_train[0][1])} time steps')"
      ],
      "metadata": {
        "id": "Vdv_zd_SC9rW",
        "colab": {
          "base_uri": "https://localhost:8080/"
        },
        "outputId": "f3f4dd16-a5f4-437d-c3d9-c69ed6835927"
      },
      "execution_count": 44,
      "outputs": [
        {
          "output_type": "stream",
          "name": "stdout",
          "text": [
            "Train waveforms:\n",
            "Processed 1147/1147 waveforms for 2294/2294 new augmented samples\n",
            "\n",
            "Validation waveforms:\n",
            "Processed 143/143 waveforms for 286/286 new augmented samples\n",
            "\n",
            "Test waveforms:\n",
            "Processed 150/150 waveforms for 300/300 new augmented samples\n",
            "\n",
            "Native + Augmented Features set: 4320 total, 3441 train, 429 validation, 450 test samples\n",
            "3441 training sample labels, 429 validation sample labels, 450 test sample labels\n",
            "Features (MFCC matrix) shape: 40 mel frequency coefficients x 282 time steps\n"
          ]
        }
      ]
    },
    {
      "cell_type": "code",
      "source": [],
      "metadata": {
        "id": "2YaPNFlUETC8"
      },
      "execution_count": null,
      "outputs": []
    },
    {
      "cell_type": "code",
      "source": [
        "X_train = np.expand_dims(features_train, 1)\n",
        "X_valid = np.expand_dims(features_valid, 1)\n",
        "X_test = np.expand_dims(features_test, 1)\n",
        "\n",
        "\n",
        "y_train = np.array(y_train)\n",
        "y_valid = np.array(y_valid)\n",
        "y_test = np.array(y_test)\n",
        "\n",
        "# confiorm that we have tensor-ready 4D data array\n",
        "# should print (batch, channel, width, height) == (4320, 1, 128, 282) when multiples==2\n",
        "print(f'Shape of 4D feature array for input tensor: {X_train.shape} train, {X_valid.shape} validation, {X_test.shape} test')\n",
        "print(f'Shape of emotion labels: {y_train.shape} train, {y_valid.shape} validation, {y_test.shape} test')"
      ],
      "metadata": {
        "id": "PsmRYbzmAS--",
        "colab": {
          "base_uri": "https://localhost:8080/"
        },
        "outputId": "82500622-853f-4fb9-fa67-2164ed617fcb"
      },
      "execution_count": 46,
      "outputs": [
        {
          "output_type": "stream",
          "name": "stdout",
          "text": [
            "Shape of 4D feature array for input tensor: (3441, 1, 40, 282) train, (429, 1, 40, 282) validation, (450, 1, 40, 282) test\n",
            "Shape of emotion labels: (3441,) train, (429,) validation, (450,) test\n"
          ]
        }
      ]
    },
    {
      "cell_type": "code",
      "source": [],
      "metadata": {
        "id": "eHCR4Mn3HgtP"
      },
      "execution_count": null,
      "outputs": []
    },
    {
      "cell_type": "code",
      "source": [
        "from sklearn.preprocessing import StandardScaler\n",
        "\n",
        "scaler = StandardScaler()\n",
        "\n",
        "#### Scale the training data ####\n",
        "# store shape so we can transform it back\n",
        "N,C,H,W = X_train.shape\n",
        "# Reshape to 1D because StandardScaler operates on a 1D array\n",
        "# tell numpy to infer shape of 1D array with '-1' argument\n",
        "X_train = np.reshape(X_train, (N,-1))\n",
        "X_train = scaler.fit_transform(X_train)\n",
        "# Transform back to NxCxHxW 4D tensor format\n",
        "X_train = np.reshape(X_train, (N,C,H,W))\n",
        "\n",
        "##### Scale the validation set ####\n",
        "N,C,H,W = X_valid.shape\n",
        "X_valid = np.reshape(X_valid, (N,-1))\n",
        "X_valid = scaler.transform(X_valid)\n",
        "X_valid = np.reshape(X_valid, (N,C,H,W))\n",
        "\n",
        "#### Scale the test set ####\n",
        "N,C,H,W = X_test.shape\n",
        "X_test = np.reshape(X_test, (N,-1))\n",
        "X_test = scaler.transform(X_test)\n",
        "X_test = np.reshape(X_test, (N,C,H,W))\n",
        "\n",
        "# check shape of each set again\n",
        "print(f'X_train scaled:{X_train.shape}, y_train:{y_train.shape}')\n",
        "print(f'X_valid scaled:{X_valid.shape}, y_valid:{y_valid.shape}')\n",
        "print(f'X_test scaled:{X_test.shape}, y_test:{y_test.shape}')"
      ],
      "metadata": {
        "id": "qQecuWFcAY2q",
        "colab": {
          "base_uri": "https://localhost:8080/"
        },
        "outputId": "0463b441-0510-465c-da88-eaf44f8469eb"
      },
      "execution_count": 47,
      "outputs": [
        {
          "output_type": "stream",
          "name": "stdout",
          "text": [
            "X_train scaled:(3441, 1, 40, 282), y_train:(3441,)\n",
            "X_valid scaled:(429, 1, 40, 282), y_valid:(429,)\n",
            "X_test scaled:(450, 1, 40, 282), y_test:(450,)\n"
          ]
        }
      ]
    },
    {
      "cell_type": "code",
      "source": [
        "filename = 'features+labels.npy'\n",
        "\n",
        "# open file in write mode and write data\n",
        "with open(filename, 'wb') as f:\n",
        "    np.save(f, X_train)\n",
        "    np.save(f, X_valid)\n",
        "    np.save(f, X_test)\n",
        "    np.save(f, y_train)\n",
        "    np.save(f, y_valid)\n",
        "    np.save(f, y_test)\n",
        "\n",
        "print(f'Features and labels saved to {filename}')"
      ],
      "metadata": {
        "colab": {
          "base_uri": "https://localhost:8080/"
        },
        "id": "MqGG7NBFHjNm",
        "outputId": "a2cddb7d-00f4-4952-82c1-6b1928558fc2"
      },
      "execution_count": 48,
      "outputs": [
        {
          "output_type": "stream",
          "name": "stdout",
          "text": [
            "Features and labels saved to features+labels.npy\n"
          ]
        }
      ]
    },
    {
      "cell_type": "code",
      "source": [
        "filename = 'features+labels.npy'\n",
        "\n",
        "# open file in read mode and read data\n",
        "with open(filename, 'rb') as f:\n",
        "    X_train = np.load(f)\n",
        "    X_valid = np.load(f)\n",
        "    X_test = np.load(f)\n",
        "    y_train = np.load(f)\n",
        "    y_valid = np.load(f)\n",
        "    y_test = np.load(f)\n",
        "\n",
        "# Check that we've recovered the right data\n",
        "print(f'X_train:{X_train.shape}, y_train:{y_train.shape}')\n",
        "print(f'X_valid:{X_valid.shape}, y_valid:{y_valid.shape}')\n",
        "print(f'X_test:{X_test.shape}, y_test:{y_test.shape}')"
      ],
      "metadata": {
        "colab": {
          "base_uri": "https://localhost:8080/"
        },
        "id": "gSaSblaiHldj",
        "outputId": "4ba222a0-e141-4fba-9aeb-51090b56c8b1"
      },
      "execution_count": 49,
      "outputs": [
        {
          "output_type": "stream",
          "name": "stdout",
          "text": [
            "X_train:(3441, 1, 40, 282), y_train:(3441,)\n",
            "X_valid:(429, 1, 40, 282), y_valid:(429,)\n",
            "X_test:(450, 1, 40, 282), y_test:(450,)\n"
          ]
        }
      ]
    },
    {
      "cell_type": "code",
      "source": [],
      "metadata": {
        "id": "xrlu_LGMHxzl"
      },
      "execution_count": null,
      "outputs": []
    },
    {
      "cell_type": "code",
      "source": [
        "class parallel_all_you_want(nn.Module):\n",
        "    # Define all layers present in the network\n",
        "    def __init__(self,num_emotions):\n",
        "        super().__init__()\n",
        "\n",
        "        ################ TRANSFORMER BLOCK #############################\n",
        "        # maxpool the input feature map/tensor to the transformer\n",
        "        # a rectangular kernel worked better here for the rectangular input spectrogram feature map/tensor\n",
        "        self.transformer_maxpool = nn.MaxPool2d(kernel_size=[1,4], stride=[1,4])\n",
        "\n",
        "        # define single transformer encoder layer\n",
        "        # self-attention + feedforward network from \"Attention is All You Need\" paper\n",
        "        # 4 multi-head self-attention layers each with 40-->512--->40 feedforward network\n",
        "        transformer_layer = nn.TransformerEncoderLayer(\n",
        "            d_model=40, # input feature (frequency) dim after maxpooling 40*282 -> 40*70 (MFC*time)\n",
        "            nhead=4, # 4 self-attention layers in each multi-head self-attention layer in each encoder block\n",
        "            dim_feedforward=512, # 2 linear layers in each encoder block's feedforward network: dim 40-->512--->40\n",
        "            dropout=0.4,\n",
        "            activation='relu' # ReLU: avoid saturation/tame gradient/reduce compute time\n",
        "        )\n",
        "\n",
        "        # I'm using 4 instead of the 6 identical stacked encoder layrs used in Attention is All You Need paper\n",
        "        # Complete transformer block contains 4 full transformer encoder layers (each w/ multihead self-attention+feedforward)\n",
        "        self.transformer_encoder = nn.TransformerEncoder(transformer_layer, num_layers=4)\n",
        "        self.conv2Dblock1 = nn.Sequential(\n",
        "\n",
        "            # 1st 2D convolution layer\n",
        "            nn.Conv2d(\n",
        "                in_channels=1, # input volume depth == input channel dim == 1\n",
        "                out_channels=16, # expand output feature map volume's depth to 16\n",
        "                kernel_size=3, # typical 3*3 stride 1 kernel\n",
        "                stride=1,\n",
        "                padding=1\n",
        "                      ),\n",
        "            nn.BatchNorm2d(16), # batch normalize the output feature map before activation\n",
        "            nn.ReLU(), # feature map --> activation map\n",
        "            nn.MaxPool2d(kernel_size=2, stride=2), #typical maxpool kernel size\n",
        "            nn.Dropout(p=0.3), #randomly zero 30% of 1st layer's output feature map in training\n",
        "\n",
        "            # 2nd 2D convolution layer identical to last except output dim, maxpool kernel\n",
        "            nn.Conv2d(\n",
        "                in_channels=16,\n",
        "                out_channels=32, # expand output feature map volume's depth to 32\n",
        "                kernel_size=3,\n",
        "                stride=1,\n",
        "                padding=1\n",
        "                      ),\n",
        "            nn.BatchNorm2d(32),\n",
        "            nn.ReLU(),\n",
        "            nn.MaxPool2d(kernel_size=4, stride=4), # increase maxpool kernel for subsequent filters\n",
        "            nn.Dropout(p=0.3),\n",
        "              nn.Conv2d(\n",
        "                in_channels=32,\n",
        "                out_channels=64, # expand output feature map volume's depth to 64\n",
        "                kernel_size=3,\n",
        "                stride=1,\n",
        "                padding=1\n",
        "                      ),\n",
        "            nn.BatchNorm2d(64),\n",
        "            nn.ReLU(),\n",
        "            nn.MaxPool2d(kernel_size=4, stride=4),\n",
        "            nn.Dropout(p=0.3),\n",
        "        )\n",
        "        ############### 2ND PARALLEL 2D CONVOLUTION BLOCK ############\n",
        "        # 3 sequential conv2D layers: (1,40,282) --> (16, 20, 141) -> (32, 5, 35) -> (64, 1, 8)\n",
        "        self.conv2Dblock2 = nn.Sequential(\n",
        "\n",
        "            # 1st 2D convolution layer\n",
        "            nn.Conv2d(\n",
        "                in_channels=1, # input volume depth == input channel dim == 1\n",
        "                out_channels=16, # expand output feature map volume's depth to 16\n",
        "                kernel_size=3, # typical 3*3 stride 1 kernel\n",
        "                stride=1,\n",
        "                padding=1\n",
        "                      ),\n",
        "            nn.BatchNorm2d(16), # batch normalize the output feature map before activation\n",
        "            nn.ReLU(), # feature map --> activation map\n",
        "            nn.MaxPool2d(kernel_size=2, stride=2), #typical maxpool kernel size\n",
        "            nn.Dropout(p=0.3), #randomly zero 30% of 1st layer's output feature map in training\n",
        "             nn.Conv2d(\n",
        "                in_channels=16,\n",
        "                out_channels=32, # expand output feature map volume's depth to 32\n",
        "                kernel_size=3,\n",
        "                stride=1,\n",
        "                padding=1\n",
        "                      ),\n",
        "            nn.BatchNorm2d(32),\n",
        "            nn.ReLU(),\n",
        "            nn.MaxPool2d(kernel_size=4, stride=4), # increase maxpool kernel for subsequent filters\n",
        "            nn.Dropout(p=0.3),\n",
        "\n",
        "            # 3rd 2D convolution layer identical to last except output dim\n",
        "            nn.Conv2d(\n",
        "                in_channels=32,\n",
        "                out_channels=64, # expand output feature map volume's depth to 64\n",
        "                kernel_size=3,\n",
        "                stride=1,\n",
        "                padding=1\n",
        "                      ),\n",
        "            nn.BatchNorm2d(64),\n",
        "            nn.ReLU(),\n",
        "            nn.MaxPool2d(kernel_size=4, stride=4),\n",
        "            nn.Dropout(p=0.3),\n",
        "        )\n",
        "        self.fc1_linear = nn.Linear(512*2+40,num_emotions)\n",
        "\n",
        "        ### Softmax layer for the 8 output logits from final FC linear layer\n",
        "        self.softmax_out = nn.Softmax(dim=1) # dim==1 is the freq embedding\n",
        "    def forward(self,x):\n",
        "\n",
        "        ############ 1st parallel Conv2D block: 4 Convolutional layers ############################\n",
        "        # create final feature embedding from 1st convolutional layer\n",
        "        # input features pased through 4 sequential 2D convolutional layers\n",
        "        conv2d_embedding1 = self.conv2Dblock1(x) # x == N/batch * channel * freq * time\n",
        "\n",
        "        # flatten final 64*1*8 feature map from convolutional layers to length 512 1D array\n",
        "        # skip the 1st (N/batch) dimension when flattening\n",
        "        conv2d_embedding1 = torch.flatten(conv2d_embedding1, start_dim=1)\n",
        "\n",
        "        ############ 2nd parallel Conv2D block: 4 Convolutional layers #############################\n",
        "        # create final feature embedding from 2nd convolutional layer\n",
        "        # input features pased through 4 sequential 2D convolutional layers\n",
        "        conv2d_embedding2 = self.conv2Dblock2(x) # x == N/batch * channel * freq * time\n",
        "\n",
        "        # flatten final 64*1*8 feature map from convolutional layers to length 512 1D array\n",
        "        # skip the 1st (N/batch) dimension when flattening\n",
        "        conv2d_embedding2 = torch.flatten(conv2d_embedding2, start_dim=1)\n",
        "\n",
        "\n",
        "        ########## 4-encoder-layer Transformer block w/ 40-->512-->40 feedfwd network ##############\n",
        "        # maxpool input feature map: 1*40*282 w/ 1*4 kernel --> 1*40*70\n",
        "        x_maxpool = self.transformer_maxpool(x)\n",
        "\n",
        "        # remove channel dim: 1*40*70 --> 40*70\n",
        "        x_maxpool_reduced = torch.squeeze(x_maxpool,1)\n",
        "\n",
        "        # convert maxpooled feature map format: batch * freq * time ---> time * batch * freq format\n",
        "        # because transformer encoder layer requires tensor in format: time * batch * embedding (freq)\n",
        "        x = x_maxpool_reduced.permute(2,0,1)\n",
        "\n",
        "        # finally, pass reduced input feature map x into transformer encoder layers\n",
        "        transformer_output = self.transformer_encoder(x)\n",
        "\n",
        "        # create final feature emedding from transformer layer by taking mean in the time dimension (now the 0th dim)\n",
        "        # transformer outputs 2x40 (MFCC embedding*time) feature map, take mean of columns i.e. take time average\n",
        "        transformer_embedding = torch.mean(transformer_output, dim=0) # dim 40x70 --> 40\n",
        "        complete_embedding = torch.cat([conv2d_embedding1, conv2d_embedding2,transformer_embedding], dim=1)\n",
        "\n",
        "        ######### final FC linear layer, need logits for loss #########################\n",
        "        output_logits = self.fc1_linear(complete_embedding)\n",
        "\n",
        "        ######### Final Softmax layer: use logits from FC linear, get softmax for prediction ######\n",
        "        output_softmax = self.softmax_out(output_logits)\n",
        "\n",
        "        # need output logits to compute cross entropy loss, need softmax probabilities to predict class\n",
        "        return output_logits, output_softmax"
      ],
      "metadata": {
        "id": "OtBbquF5Ap0K"
      },
      "execution_count": 50,
      "outputs": []
    },
    {
      "cell_type": "code",
      "source": [
        "!pip install torchinfo\n",
        "from torchinfo import summary\n",
        "\n",
        "# need device to instantiate model\n",
        "device = 'cpu'\n",
        "\n",
        "# instantiate model for 8 emotions and move to GPU\n",
        "model = parallel_all_you_want(len(emotions_dict)).to(device)\n",
        "\n",
        "# include input feature map dims in call to summary()\n",
        "summary(model, input_size=(2,1,40,282))"
      ],
      "metadata": {
        "colab": {
          "base_uri": "https://localhost:8080/"
        },
        "id": "J-eiCJZ_H1Ee",
        "outputId": "c7dc3de8-77eb-438d-86f2-48c333ba0c39"
      },
      "execution_count": 51,
      "outputs": [
        {
          "output_type": "stream",
          "name": "stdout",
          "text": [
            "Requirement already satisfied: torchinfo in /usr/local/lib/python3.10/dist-packages (1.8.0)\n"
          ]
        },
        {
          "output_type": "execute_result",
          "data": {
            "text/plain": [
              "===============================================================================================\n",
              "Layer (type:depth-idx)                        Output Shape              Param #\n",
              "===============================================================================================\n",
              "parallel_all_you_want                         [2, 8]                    --\n",
              "├─Sequential: 1-1                             [2, 64, 1, 8]             --\n",
              "│    └─Conv2d: 2-1                            [2, 16, 40, 282]          160\n",
              "│    └─BatchNorm2d: 2-2                       [2, 16, 40, 282]          32\n",
              "│    └─ReLU: 2-3                              [2, 16, 40, 282]          --\n",
              "│    └─MaxPool2d: 2-4                         [2, 16, 20, 141]          --\n",
              "│    └─Dropout: 2-5                           [2, 16, 20, 141]          --\n",
              "│    └─Conv2d: 2-6                            [2, 32, 20, 141]          4,640\n",
              "│    └─BatchNorm2d: 2-7                       [2, 32, 20, 141]          64\n",
              "│    └─ReLU: 2-8                              [2, 32, 20, 141]          --\n",
              "│    └─MaxPool2d: 2-9                         [2, 32, 5, 35]            --\n",
              "│    └─Dropout: 2-10                          [2, 32, 5, 35]            --\n",
              "│    └─Conv2d: 2-11                           [2, 64, 5, 35]            18,496\n",
              "│    └─BatchNorm2d: 2-12                      [2, 64, 5, 35]            128\n",
              "│    └─ReLU: 2-13                             [2, 64, 5, 35]            --\n",
              "│    └─MaxPool2d: 2-14                        [2, 64, 1, 8]             --\n",
              "│    └─Dropout: 2-15                          [2, 64, 1, 8]             --\n",
              "├─Sequential: 1-2                             [2, 64, 1, 8]             --\n",
              "│    └─Conv2d: 2-16                           [2, 16, 40, 282]          160\n",
              "│    └─BatchNorm2d: 2-17                      [2, 16, 40, 282]          32\n",
              "│    └─ReLU: 2-18                             [2, 16, 40, 282]          --\n",
              "│    └─MaxPool2d: 2-19                        [2, 16, 20, 141]          --\n",
              "│    └─Dropout: 2-20                          [2, 16, 20, 141]          --\n",
              "│    └─Conv2d: 2-21                           [2, 32, 20, 141]          4,640\n",
              "│    └─BatchNorm2d: 2-22                      [2, 32, 20, 141]          64\n",
              "│    └─ReLU: 2-23                             [2, 32, 20, 141]          --\n",
              "│    └─MaxPool2d: 2-24                        [2, 32, 5, 35]            --\n",
              "│    └─Dropout: 2-25                          [2, 32, 5, 35]            --\n",
              "│    └─Conv2d: 2-26                           [2, 64, 5, 35]            18,496\n",
              "│    └─BatchNorm2d: 2-27                      [2, 64, 5, 35]            128\n",
              "│    └─ReLU: 2-28                             [2, 64, 5, 35]            --\n",
              "│    └─MaxPool2d: 2-29                        [2, 64, 1, 8]             --\n",
              "│    └─Dropout: 2-30                          [2, 64, 1, 8]             --\n",
              "├─MaxPool2d: 1-3                              [2, 1, 40, 70]            --\n",
              "├─TransformerEncoder: 1-4                     [70, 2, 40]               --\n",
              "│    └─ModuleList: 2-31                       --                        --\n",
              "│    │    └─TransformerEncoderLayer: 3-1      [70, 2, 40]               48,232\n",
              "│    │    └─TransformerEncoderLayer: 3-2      [70, 2, 40]               48,232\n",
              "│    │    └─TransformerEncoderLayer: 3-3      [70, 2, 40]               48,232\n",
              "│    │    └─TransformerEncoderLayer: 3-4      [70, 2, 40]               48,232\n",
              "├─Linear: 1-5                                 [2, 8]                    8,520\n",
              "├─Softmax: 1-6                                [2, 8]                    --\n",
              "===============================================================================================\n",
              "Total params: 248,488\n",
              "Trainable params: 248,488\n",
              "Non-trainable params: 0\n",
              "Total mult-adds (M): 84.19\n",
              "===============================================================================================\n",
              "Input size (MB): 0.09\n",
              "Forward/backward pass size (MB): 20.87\n",
              "Params size (MB): 0.89\n",
              "Estimated Total Size (MB): 21.85\n",
              "==============================================================================================="
            ]
          },
          "metadata": {},
          "execution_count": 51
        }
      ]
    },
    {
      "cell_type": "code",
      "source": [],
      "metadata": {
        "id": "cEn-5LYfH4xI"
      },
      "execution_count": null,
      "outputs": []
    },
    {
      "cell_type": "code",
      "source": [
        "def criterion(predictions, targets):\n",
        "    return nn.CrossEntropyLoss()(input=predictions, target=targets)"
      ],
      "metadata": {
        "id": "NcFrMijMRWGJ"
      },
      "execution_count": 52,
      "outputs": []
    },
    {
      "cell_type": "code",
      "source": [],
      "metadata": {
        "id": "N_8zjEaKH9-Z"
      },
      "execution_count": null,
      "outputs": []
    },
    {
      "cell_type": "code",
      "source": [
        "optimizer = torch.optim.SGD(model.parameters(),lr=0.01, weight_decay=1e-3, momentum=0.8)"
      ],
      "metadata": {
        "id": "ZF8kl6x4Bek9"
      },
      "execution_count": 53,
      "outputs": []
    },
    {
      "cell_type": "code",
      "source": [],
      "metadata": {
        "id": "RSPaPxhWICIu"
      },
      "execution_count": null,
      "outputs": []
    },
    {
      "cell_type": "code",
      "source": [
        "# define function to create a single step of the training phase\n",
        "def make_train_step(model, criterion, optimizer):\n",
        "\n",
        "    # define the training step of the training phase\n",
        "    def train_step(X,Y):\n",
        "\n",
        "        # forward pass\n",
        "        output_logits, output_softmax = model(X)\n",
        "        predictions = torch.argmax(output_softmax,dim=1)\n",
        "        accuracy = torch.sum(Y==predictions)/float(len(Y))\n",
        "\n",
        "        # compute loss on logits because nn.CrossEntropyLoss implements log softmax\n",
        "        loss = criterion(output_logits, Y)\n",
        "\n",
        "        # compute gradients for the optimizer to use\n",
        "        loss.backward()\n",
        "\n",
        "        # update network parameters based on gradient stored (by calling loss.backward())\n",
        "        optimizer.step()\n",
        "\n",
        "        # zero out gradients for next pass\n",
        "        # pytorch accumulates gradients from backwards passes (convenient for RNNs)\n",
        "        optimizer.zero_grad()\n",
        "\n",
        "        return loss.item(), accuracy*100\n",
        "    return train_step"
      ],
      "metadata": {
        "id": "6wyFjamABhW7"
      },
      "execution_count": 54,
      "outputs": []
    },
    {
      "cell_type": "code",
      "source": [],
      "metadata": {
        "id": "f5XXGewpIFkr"
      },
      "execution_count": null,
      "outputs": []
    },
    {
      "cell_type": "code",
      "source": [
        "def make_validate_fnc(model,criterion):\n",
        "    def validate(X,Y):\n",
        "\n",
        "        # don't want to update any network parameters on validation passes: don't need gradient\n",
        "        # wrap in torch.no_grad to save memory and compute in validation phase:\n",
        "        with torch.no_grad():\n",
        "\n",
        "            # set model to validation phase i.e. turn off dropout and batchnorm layers\n",
        "            model.eval()\n",
        "\n",
        "            # get the model's predictions on the validation set\n",
        "            output_logits, output_softmax = model(X)\n",
        "            predictions = torch.argmax(output_softmax,dim=1)\n",
        "            print(predictions.shape, \"pred_shape\")\n",
        "            print(Y.shape, \"Y_shape\")\n",
        "\n",
        "            # calculate the mean accuracy over the entire validation set\n",
        "            accuracy = torch.sum(Y==predictions)/float(len(Y))\n",
        "\n",
        "            # compute error from logits (nn.crossentropy implements softmax)\n",
        "            loss = criterion(output_logits,Y)\n",
        "\n",
        "        return loss.item(), accuracy*100, predictions\n",
        "    return validate"
      ],
      "metadata": {
        "id": "dLKaGOhzBkBF"
      },
      "execution_count": 55,
      "outputs": []
    },
    {
      "cell_type": "code",
      "source": [],
      "metadata": {
        "id": "2hhHENxjIJJN"
      },
      "execution_count": null,
      "outputs": []
    },
    {
      "cell_type": "code",
      "source": [
        "def make_save_checkpoint():\n",
        "    def save_checkpoint(optimizer, model, epoch, filename):\n",
        "        checkpoint_dict = {\n",
        "            'optimizer': optimizer.state_dict(),\n",
        "            'model': model.state_dict(),\n",
        "            'epoch': epoch\n",
        "        }\n",
        "        torch.save(checkpoint_dict, filename)\n",
        "    return save_checkpoint\n",
        "\n",
        "def load_checkpoint(optimizer, model, filename):\n",
        "    checkpoint_dict = torch.load(filename)\n",
        "    epoch = checkpoint_dict['epoch']\n",
        "    model.load_state_dict(checkpoint_dict['model'])\n",
        "    if optimizer is not None:\n",
        "        optimizer.load_state_dict(checkpoint_dict['optimizer'])\n",
        "    return epoch"
      ],
      "metadata": {
        "id": "jnraJnthBnBY"
      },
      "execution_count": 56,
      "outputs": []
    },
    {
      "cell_type": "code",
      "source": [],
      "metadata": {
        "id": "oAbd1F-2IO1I"
      },
      "execution_count": null,
      "outputs": []
    },
    {
      "cell_type": "code",
      "source": [
        "# get training set size to calculate # iterations and minibatch indices\n",
        "train_size = X_train.shape[0]\n",
        "\n",
        "# pick minibatch size (of 32... always)\n",
        "minibatch = 32\n",
        "\n",
        "# set device to GPU\n",
        "device = 'cuda' if torch.cuda.is_available() else 'cpu'\n",
        "print(f'{device} selected')\n",
        "\n",
        "# instantiate model and move to GPU for training\n",
        "model = parallel_all_you_want(num_emotions=len(emotions_dict)).to(device)\n",
        "print('Number of trainable params: ',sum(p.numel() for p in model.parameters()) )\n",
        "\n",
        "# encountered bugs in google colab only, unless I explicitly defined optimizer in this cell...\n",
        "optimizer = torch.optim.SGD(model.parameters(),lr=0.01, weight_decay=1e-3, momentum=0.8)\n",
        "\n",
        "# instantiate the checkpoint save function\n",
        "save_checkpoint = make_save_checkpoint()\n",
        "\n",
        "# instantiate the training step function\n",
        "train_step = make_train_step(model, criterion, optimizer=optimizer)\n",
        "\n",
        "# instantiate the validation loop function\n",
        "validate = make_validate_fnc(model,criterion)\n",
        "\n",
        "# instantiate lists to hold scalar performance metrics to plot later\n",
        "train_losses=[]\n",
        "valid_losses = []\n",
        "epoch_accuracy=[]\n",
        "epochs=[]\n",
        "\n",
        "# create training loop for one complete epoch (entire training set)\n",
        "def train(optimizer, model, num_epochs, X_train, Y_train, X_valid, Y_valid):\n",
        "\n",
        "    for epoch in range(num_epochs):\n",
        "\n",
        "        # set model to train phase\n",
        "        model.train()\n",
        "\n",
        "        # shuffle entire training set in each epoch to randomize minibatch order\n",
        "        train_indices = np.random.permutation(train_size)\n",
        "\n",
        "        # shuffle the training set for each epoch:\n",
        "        X_train = X_train[train_indices,:,:,:]\n",
        "        Y_train = Y_train[train_indices]\n",
        "\n",
        "        # instantiate scalar values to keep track of progress after each epoch so we can stop training when appropriate\n",
        "        epoch_acc = 0\n",
        "        epoch_loss = 0\n",
        "        num_iterations = int(train_size / minibatch)\n",
        "\n",
        "        # create a loop for each minibatch of 32 samples:\n",
        "        for i in range(num_iterations):\n",
        "\n",
        "            # we have to track and update minibatch position for the current minibatch\n",
        "            # if we take a random batch position from a set, we almost certainly will skip some of the data in that set\n",
        "            # track minibatch position based on iteration number:\n",
        "            batch_start = i * minibatch\n",
        "            # ensure we don't go out of the bounds of our training set:\n",
        "            batch_end = min(batch_start + minibatch, train_size)\n",
        "            # ensure we don't have an index error\n",
        "            actual_batch_size = batch_end-batch_start\n",
        "\n",
        "            # get training minibatch with all channnels and 2D feature dims\n",
        "            X = X_train[batch_start:batch_end,:,:,:]\n",
        "            # get training minibatch labels\n",
        "            Y = Y_train[batch_start:batch_end]\n",
        "\n",
        "            # instantiate training tensors\n",
        "            X_tensor = torch.tensor(X, device=device).float()\n",
        "            Y_tensor = torch.tensor(Y, dtype=torch.long,device=device)\n",
        "\n",
        "            # Pass input tensors thru 1 training step (fwd+backwards pass)\n",
        "            loss, acc = train_step(X_tensor,Y_tensor)\n",
        "\n",
        "            # aggregate batch accuracy to measure progress of entire epoch\n",
        "            epoch_acc += acc * actual_batch_size / train_size\n",
        "            epoch_loss += loss * actual_batch_size / train_size\n",
        "\n",
        "            # keep track of the iteration to see if the model's too slow\n",
        "            print('\\r'+f'Epoch {epoch+1}: iteration {i}/{num_iterations}',end='')\n",
        "\n",
        "        # create tensors from validation set\n",
        "        X_valid_tensor = torch.tensor(X_valid,device=device).float()\n",
        "        Y_valid_tensor = torch.tensor(Y_valid,dtype=torch.long,device=device)\n",
        "        print(X_valid_tensor.shape)\n",
        "        print(Y_valid_tensor.shape)\n",
        "        # calculate validation metrics to keep track of progress; don't need predictions now\n",
        "        valid_loss, valid_acc, _ = validate(X_valid_tensor,Y_valid_tensor)\n",
        "\n",
        "        # accumulate scalar performance metrics at each epoch to track and plot later\n",
        "        train_losses.append(epoch_loss)\n",
        "        valid_losses.append(valid_loss)\n",
        "        epoch_accuracy.append(epoch_acc)\n",
        "        epochs.append(epoch)\n",
        "        print('heloo')\n",
        "\n",
        "\n",
        "        # Save checkpoint of the model\n",
        "        checkpoint_filename = './checkpoints/parallel_all_you_wantFINAL-{:03d}.pkl'.format(epoch)\n",
        "        save_checkpoint(optimizer, model, epoch, checkpoint_filename)\n",
        "        print('hello')\n",
        "\n",
        "        # keep track of each epoch's progress\n",
        "        print(f'\\nEpoch {epoch+1} --- loss:{epoch_loss:.3f}, Epoch accuracy:{epoch_acc:.2f}%, Validation loss:{valid_loss:.3f}, Validation accuracy:{valid_acc:.2f}%')\n"
      ],
      "metadata": {
        "id": "a8ozNvdtBp21",
        "colab": {
          "base_uri": "https://localhost:8080/"
        },
        "outputId": "8f1bd56a-d524-4e03-e9b5-bd07c54a0ee0"
      },
      "execution_count": 57,
      "outputs": [
        {
          "output_type": "stream",
          "name": "stdout",
          "text": [
            "cpu selected\n",
            "Number of trainable params:  248488\n"
          ]
        }
      ]
    },
    {
      "cell_type": "code",
      "source": [
        "!mkdir checkpoints"
      ],
      "metadata": {
        "colab": {
          "base_uri": "https://localhost:8080/"
        },
        "id": "qnn7WzhcIR0z",
        "outputId": "660f1f96-747f-4a58-95d1-ee529dcc6497"
      },
      "execution_count": 58,
      "outputs": [
        {
          "output_type": "stream",
          "name": "stdout",
          "text": [
            "mkdir: cannot create directory ‘checkpoints’: File exists\n"
          ]
        }
      ]
    },
    {
      "cell_type": "code",
      "source": [],
      "metadata": {
        "id": "gFnx6vS8IzRu"
      },
      "execution_count": null,
      "outputs": []
    },
    {
      "cell_type": "code",
      "source": [
        "# choose number of epochs higher than reasonable so we can manually stop training\n",
        "num_epochs = 50\n",
        "\n",
        "# train it!\n",
        "train(optimizer, model, num_epochs, X_train, y_train, X_valid, y_valid)\n"
      ],
      "metadata": {
        "id": "W6UthTe_Bs7J",
        "colab": {
          "base_uri": "https://localhost:8080/"
        },
        "outputId": "02ebee25-51de-403c-8476-d230efc065fb"
      },
      "execution_count": null,
      "outputs": [
        {
          "output_type": "stream",
          "name": "stdout",
          "text": [
            "Epoch 1: iteration 106/107torch.Size([429, 1, 40, 282])\n",
            "torch.Size([429])\n",
            "torch.Size([429]) pred_shape\n",
            "torch.Size([429]) Y_shape\n",
            "heloo\n",
            "hello\n",
            "\n",
            "Epoch 1 --- loss:3.553, Epoch accuracy:24.35%, Validation loss:2.020, Validation accuracy:28.90%\n",
            "Epoch 2: iteration 106/107torch.Size([429, 1, 40, 282])\n",
            "torch.Size([429])\n",
            "torch.Size([429]) pred_shape\n",
            "torch.Size([429]) Y_shape\n",
            "heloo\n",
            "hello\n",
            "\n",
            "Epoch 2 --- loss:1.702, Epoch accuracy:34.84%, Validation loss:1.920, Validation accuracy:33.10%\n",
            "Epoch 3: iteration 106/107torch.Size([429, 1, 40, 282])\n",
            "torch.Size([429])\n",
            "torch.Size([429]) pred_shape\n",
            "torch.Size([429]) Y_shape\n",
            "heloo\n",
            "hello\n",
            "\n",
            "Epoch 3 --- loss:1.606, Epoch accuracy:38.71%, Validation loss:1.796, Validation accuracy:32.17%\n",
            "Epoch 4: iteration 106/107torch.Size([429, 1, 40, 282])\n",
            "torch.Size([429])\n",
            "torch.Size([429]) pred_shape\n",
            "torch.Size([429]) Y_shape\n",
            "heloo\n",
            "hello\n",
            "\n",
            "Epoch 4 --- loss:1.520, Epoch accuracy:42.78%, Validation loss:1.799, Validation accuracy:35.66%\n",
            "Epoch 5: iteration 106/107torch.Size([429, 1, 40, 282])\n",
            "torch.Size([429])\n",
            "torch.Size([429]) pred_shape\n",
            "torch.Size([429]) Y_shape\n",
            "heloo\n",
            "hello\n",
            "\n",
            "Epoch 5 --- loss:1.477, Epoch accuracy:43.30%, Validation loss:1.762, Validation accuracy:38.93%\n",
            "Epoch 6: iteration 106/107torch.Size([429, 1, 40, 282])\n",
            "torch.Size([429])\n",
            "torch.Size([429]) pred_shape\n",
            "torch.Size([429]) Y_shape\n",
            "heloo\n",
            "hello\n",
            "\n",
            "Epoch 6 --- loss:1.399, Epoch accuracy:48.27%, Validation loss:1.643, Validation accuracy:45.92%\n",
            "Epoch 7: iteration 106/107torch.Size([429, 1, 40, 282])\n",
            "torch.Size([429])\n",
            "torch.Size([429]) pred_shape\n",
            "torch.Size([429]) Y_shape\n",
            "heloo\n",
            "hello\n",
            "\n",
            "Epoch 7 --- loss:1.374, Epoch accuracy:49.26%, Validation loss:1.648, Validation accuracy:41.26%\n",
            "Epoch 8: iteration 106/107torch.Size([429, 1, 40, 282])\n",
            "torch.Size([429])\n",
            "torch.Size([429]) pred_shape\n",
            "torch.Size([429]) Y_shape\n",
            "heloo\n",
            "hello\n",
            "\n",
            "Epoch 8 --- loss:1.313, Epoch accuracy:50.77%, Validation loss:1.601, Validation accuracy:41.03%\n",
            "Epoch 9: iteration 106/107torch.Size([429, 1, 40, 282])\n",
            "torch.Size([429])\n",
            "torch.Size([429]) pred_shape\n",
            "torch.Size([429]) Y_shape\n",
            "heloo\n",
            "hello\n",
            "\n",
            "Epoch 9 --- loss:1.262, Epoch accuracy:52.86%, Validation loss:1.557, Validation accuracy:45.45%\n",
            "Epoch 10: iteration 106/107torch.Size([429, 1, 40, 282])\n",
            "torch.Size([429])\n",
            "torch.Size([429]) pred_shape\n",
            "torch.Size([429]) Y_shape\n",
            "heloo\n",
            "hello\n",
            "\n",
            "Epoch 10 --- loss:1.239, Epoch accuracy:54.37%, Validation loss:1.478, Validation accuracy:47.09%\n",
            "Epoch 11: iteration 106/107torch.Size([429, 1, 40, 282])\n",
            "torch.Size([429])\n",
            "torch.Size([429]) pred_shape\n",
            "torch.Size([429]) Y_shape\n",
            "heloo\n",
            "hello\n",
            "\n",
            "Epoch 11 --- loss:1.206, Epoch accuracy:54.75%, Validation loss:1.477, Validation accuracy:48.48%\n",
            "Epoch 12: iteration 106/107torch.Size([429, 1, 40, 282])\n",
            "torch.Size([429])\n",
            "torch.Size([429]) pred_shape\n",
            "torch.Size([429]) Y_shape\n",
            "heloo\n",
            "hello\n",
            "\n",
            "Epoch 12 --- loss:1.166, Epoch accuracy:57.28%, Validation loss:1.430, Validation accuracy:49.42%\n",
            "Epoch 13: iteration 106/107torch.Size([429, 1, 40, 282])\n",
            "torch.Size([429])\n",
            "torch.Size([429]) pred_shape\n",
            "torch.Size([429]) Y_shape\n",
            "heloo\n",
            "hello\n",
            "\n",
            "Epoch 13 --- loss:1.106, Epoch accuracy:59.26%, Validation loss:1.512, Validation accuracy:47.79%\n",
            "Epoch 14: iteration 106/107torch.Size([429, 1, 40, 282])\n",
            "torch.Size([429])\n",
            "torch.Size([429]) pred_shape\n",
            "torch.Size([429]) Y_shape\n",
            "heloo\n",
            "hello\n",
            "\n",
            "Epoch 14 --- loss:1.086, Epoch accuracy:59.26%, Validation loss:1.583, Validation accuracy:47.32%\n",
            "Epoch 15: iteration 106/107torch.Size([429, 1, 40, 282])\n",
            "torch.Size([429])\n",
            "torch.Size([429]) pred_shape\n",
            "torch.Size([429]) Y_shape\n",
            "heloo\n",
            "hello\n",
            "\n",
            "Epoch 15 --- loss:1.047, Epoch accuracy:61.44%, Validation loss:1.363, Validation accuracy:50.58%\n",
            "Epoch 16: iteration 106/107torch.Size([429, 1, 40, 282])\n",
            "torch.Size([429])\n",
            "torch.Size([429]) pred_shape\n",
            "torch.Size([429]) Y_shape\n",
            "heloo\n",
            "hello\n",
            "\n",
            "Epoch 16 --- loss:1.036, Epoch accuracy:63.27%, Validation loss:1.446, Validation accuracy:50.35%\n",
            "Epoch 17: iteration 106/107torch.Size([429, 1, 40, 282])\n",
            "torch.Size([429])\n",
            "torch.Size([429]) pred_shape\n",
            "torch.Size([429]) Y_shape\n",
            "heloo\n",
            "hello\n",
            "\n",
            "Epoch 17 --- loss:0.988, Epoch accuracy:64.05%, Validation loss:1.323, Validation accuracy:52.45%\n",
            "Epoch 18: iteration 106/107torch.Size([429, 1, 40, 282])\n",
            "torch.Size([429])\n",
            "torch.Size([429]) pred_shape\n",
            "torch.Size([429]) Y_shape\n",
            "heloo\n",
            "hello\n",
            "\n",
            "Epoch 18 --- loss:0.957, Epoch accuracy:64.28%, Validation loss:1.404, Validation accuracy:50.58%\n",
            "Epoch 19: iteration 106/107torch.Size([429, 1, 40, 282])\n",
            "torch.Size([429])\n",
            "torch.Size([429]) pred_shape\n",
            "torch.Size([429]) Y_shape\n",
            "heloo\n",
            "hello\n",
            "\n",
            "Epoch 19 --- loss:0.933, Epoch accuracy:64.89%, Validation loss:1.460, Validation accuracy:49.65%\n",
            "Epoch 20: iteration 106/107torch.Size([429, 1, 40, 282])\n",
            "torch.Size([429])\n",
            "torch.Size([429]) pred_shape\n",
            "torch.Size([429]) Y_shape\n",
            "heloo\n",
            "hello\n",
            "\n",
            "Epoch 20 --- loss:0.912, Epoch accuracy:66.38%, Validation loss:1.457, Validation accuracy:49.88%\n",
            "Epoch 21: iteration 106/107torch.Size([429, 1, 40, 282])\n",
            "torch.Size([429])\n",
            "torch.Size([429]) pred_shape\n",
            "torch.Size([429]) Y_shape\n",
            "heloo\n",
            "hello\n",
            "\n",
            "Epoch 21 --- loss:0.865, Epoch accuracy:67.25%, Validation loss:1.323, Validation accuracy:51.98%\n",
            "Epoch 22: iteration 106/107torch.Size([429, 1, 40, 282])\n",
            "torch.Size([429])\n",
            "torch.Size([429]) pred_shape\n",
            "torch.Size([429]) Y_shape\n",
            "heloo\n",
            "hello\n",
            "\n",
            "Epoch 22 --- loss:0.869, Epoch accuracy:68.06%, Validation loss:1.479, Validation accuracy:49.42%\n",
            "Epoch 23: iteration 106/107torch.Size([429, 1, 40, 282])\n",
            "torch.Size([429])\n",
            "torch.Size([429]) pred_shape\n",
            "torch.Size([429]) Y_shape\n",
            "heloo\n",
            "hello\n",
            "\n",
            "Epoch 23 --- loss:0.830, Epoch accuracy:69.46%, Validation loss:1.453, Validation accuracy:51.28%\n",
            "Epoch 24: iteration 106/107torch.Size([429, 1, 40, 282])\n",
            "torch.Size([429])\n",
            "torch.Size([429]) pred_shape\n",
            "torch.Size([429]) Y_shape\n",
            "heloo\n",
            "hello\n",
            "\n",
            "Epoch 24 --- loss:0.809, Epoch accuracy:69.92%, Validation loss:1.437, Validation accuracy:48.25%\n",
            "Epoch 25: iteration 106/107torch.Size([429, 1, 40, 282])\n",
            "torch.Size([429])\n",
            "torch.Size([429]) pred_shape\n",
            "torch.Size([429]) Y_shape\n",
            "heloo\n",
            "hello\n",
            "\n",
            "Epoch 25 --- loss:0.771, Epoch accuracy:71.61%, Validation loss:1.363, Validation accuracy:51.52%\n",
            "Epoch 26: iteration 106/107torch.Size([429, 1, 40, 282])\n",
            "torch.Size([429])\n",
            "torch.Size([429]) pred_shape\n",
            "torch.Size([429]) Y_shape\n",
            "heloo\n",
            "hello\n",
            "\n",
            "Epoch 26 --- loss:0.763, Epoch accuracy:72.42%, Validation loss:1.485, Validation accuracy:52.45%\n",
            "Epoch 27: iteration 106/107torch.Size([429, 1, 40, 282])\n",
            "torch.Size([429])\n",
            "torch.Size([429]) pred_shape\n",
            "torch.Size([429]) Y_shape\n",
            "heloo\n",
            "hello\n",
            "\n",
            "Epoch 27 --- loss:0.751, Epoch accuracy:71.72%, Validation loss:1.378, Validation accuracy:52.45%\n",
            "Epoch 28: iteration 106/107torch.Size([429, 1, 40, 282])\n",
            "torch.Size([429])\n",
            "torch.Size([429]) pred_shape\n",
            "torch.Size([429]) Y_shape\n",
            "heloo\n",
            "hello\n",
            "\n",
            "Epoch 28 --- loss:0.737, Epoch accuracy:72.57%, Validation loss:1.345, Validation accuracy:51.98%\n",
            "Epoch 29: iteration 106/107torch.Size([429, 1, 40, 282])\n",
            "torch.Size([429])\n",
            "torch.Size([429]) pred_shape\n",
            "torch.Size([429]) Y_shape\n",
            "heloo\n",
            "hello\n",
            "\n",
            "Epoch 29 --- loss:0.717, Epoch accuracy:73.99%, Validation loss:1.527, Validation accuracy:48.95%\n",
            "Epoch 30: iteration 106/107torch.Size([429, 1, 40, 282])\n",
            "torch.Size([429])\n",
            "torch.Size([429]) pred_shape\n",
            "torch.Size([429]) Y_shape\n",
            "heloo\n",
            "hello\n",
            "\n",
            "Epoch 30 --- loss:0.692, Epoch accuracy:74.72%, Validation loss:1.413, Validation accuracy:52.68%\n",
            "Epoch 31: iteration 106/107torch.Size([429, 1, 40, 282])\n",
            "torch.Size([429])\n",
            "torch.Size([429]) pred_shape\n",
            "torch.Size([429]) Y_shape\n",
            "heloo\n",
            "hello\n",
            "\n",
            "Epoch 31 --- loss:0.652, Epoch accuracy:75.50%, Validation loss:1.446, Validation accuracy:51.05%\n",
            "Epoch 32: iteration 106/107torch.Size([429, 1, 40, 282])\n",
            "torch.Size([429])\n",
            "torch.Size([429]) pred_shape\n",
            "torch.Size([429]) Y_shape\n",
            "heloo\n",
            "hello\n",
            "\n",
            "Epoch 32 --- loss:0.651, Epoch accuracy:76.78%, Validation loss:1.338, Validation accuracy:53.85%\n",
            "Epoch 33: iteration 106/107torch.Size([429, 1, 40, 282])\n",
            "torch.Size([429])\n",
            "torch.Size([429]) pred_shape\n",
            "torch.Size([429]) Y_shape\n",
            "heloo\n",
            "hello\n",
            "\n",
            "Epoch 33 --- loss:0.634, Epoch accuracy:76.66%, Validation loss:1.486, Validation accuracy:52.68%\n",
            "Epoch 34: iteration 106/107torch.Size([429, 1, 40, 282])\n",
            "torch.Size([429])\n",
            "torch.Size([429]) pred_shape\n",
            "torch.Size([429]) Y_shape\n",
            "heloo\n",
            "hello\n",
            "\n",
            "Epoch 34 --- loss:0.653, Epoch accuracy:76.14%, Validation loss:1.330, Validation accuracy:55.48%\n",
            "Epoch 35: iteration 106/107torch.Size([429, 1, 40, 282])\n",
            "torch.Size([429])\n",
            "torch.Size([429]) pred_shape\n",
            "torch.Size([429]) Y_shape\n",
            "heloo\n",
            "hello\n",
            "\n",
            "Epoch 35 --- loss:0.602, Epoch accuracy:76.87%, Validation loss:1.505, Validation accuracy:52.21%\n",
            "Epoch 36: iteration 106/107torch.Size([429, 1, 40, 282])\n",
            "torch.Size([429])\n",
            "torch.Size([429]) pred_shape\n",
            "torch.Size([429]) Y_shape\n",
            "heloo\n",
            "hello\n",
            "\n",
            "Epoch 36 --- loss:0.572, Epoch accuracy:78.79%, Validation loss:1.391, Validation accuracy:54.08%\n",
            "Epoch 37: iteration 106/107torch.Size([429, 1, 40, 282])\n",
            "torch.Size([429])\n",
            "torch.Size([429]) pred_shape\n",
            "torch.Size([429]) Y_shape\n",
            "heloo\n",
            "hello\n",
            "\n",
            "Epoch 37 --- loss:0.597, Epoch accuracy:77.30%, Validation loss:1.346, Validation accuracy:54.55%\n",
            "Epoch 38: iteration 106/107torch.Size([429, 1, 40, 282])\n",
            "torch.Size([429])\n",
            "torch.Size([429]) pred_shape\n",
            "torch.Size([429]) Y_shape\n",
            "heloo\n",
            "hello\n",
            "\n",
            "Epoch 38 --- loss:0.565, Epoch accuracy:79.51%, Validation loss:1.390, Validation accuracy:54.78%\n",
            "Epoch 39: iteration 106/107torch.Size([429, 1, 40, 282])\n",
            "torch.Size([429])\n",
            "torch.Size([429]) pred_shape\n",
            "torch.Size([429]) Y_shape\n",
            "heloo\n",
            "hello\n",
            "\n",
            "Epoch 39 --- loss:0.557, Epoch accuracy:80.06%, Validation loss:1.485, Validation accuracy:52.45%\n",
            "Epoch 40: iteration 106/107torch.Size([429, 1, 40, 282])\n",
            "torch.Size([429])\n",
            "torch.Size([429]) pred_shape\n",
            "torch.Size([429]) Y_shape\n",
            "heloo\n",
            "hello\n",
            "\n",
            "Epoch 40 --- loss:0.568, Epoch accuracy:79.66%, Validation loss:1.400, Validation accuracy:53.61%\n",
            "Epoch 41: iteration 106/107torch.Size([429, 1, 40, 282])\n",
            "torch.Size([429])\n",
            "torch.Size([429]) pred_shape\n",
            "torch.Size([429]) Y_shape\n",
            "heloo\n",
            "hello\n",
            "\n",
            "Epoch 41 --- loss:0.555, Epoch accuracy:79.05%, Validation loss:1.410, Validation accuracy:52.91%\n",
            "Epoch 42: iteration 106/107torch.Size([429, 1, 40, 282])\n",
            "torch.Size([429])\n",
            "torch.Size([429]) pred_shape\n",
            "torch.Size([429]) Y_shape\n",
            "heloo\n",
            "hello\n",
            "\n",
            "Epoch 42 --- loss:0.542, Epoch accuracy:80.06%, Validation loss:1.411, Validation accuracy:52.45%\n",
            "Epoch 43: iteration 106/107torch.Size([429, 1, 40, 282])\n",
            "torch.Size([429])\n",
            "torch.Size([429]) pred_shape\n",
            "torch.Size([429]) Y_shape\n",
            "heloo\n",
            "hello\n",
            "\n",
            "Epoch 43 --- loss:0.485, Epoch accuracy:82.48%, Validation loss:1.417, Validation accuracy:53.61%\n",
            "Epoch 44: iteration 106/107torch.Size([429, 1, 40, 282])\n",
            "torch.Size([429])\n",
            "torch.Size([429]) pred_shape\n",
            "torch.Size([429]) Y_shape\n",
            "heloo\n",
            "hello\n",
            "\n",
            "Epoch 44 --- loss:0.529, Epoch accuracy:80.79%, Validation loss:1.538, Validation accuracy:51.05%\n",
            "Epoch 45: iteration 106/107torch.Size([429, 1, 40, 282])\n",
            "torch.Size([429])\n",
            "torch.Size([429]) pred_shape\n",
            "torch.Size([429]) Y_shape\n",
            "heloo\n",
            "hello\n",
            "\n",
            "Epoch 45 --- loss:0.492, Epoch accuracy:81.23%, Validation loss:1.543, Validation accuracy:52.45%\n",
            "Epoch 46: iteration 106/107torch.Size([429, 1, 40, 282])\n",
            "torch.Size([429])\n",
            "torch.Size([429]) pred_shape\n",
            "torch.Size([429]) Y_shape\n",
            "heloo\n",
            "hello\n",
            "\n",
            "Epoch 46 --- loss:0.480, Epoch accuracy:82.21%, Validation loss:1.542, Validation accuracy:52.91%\n",
            "Epoch 47: iteration 106/107torch.Size([429, 1, 40, 282])\n",
            "torch.Size([429])\n",
            "torch.Size([429]) pred_shape\n",
            "torch.Size([429]) Y_shape\n",
            "heloo\n",
            "hello\n",
            "\n",
            "Epoch 47 --- loss:0.473, Epoch accuracy:82.07%, Validation loss:1.486, Validation accuracy:52.45%\n",
            "Epoch 48: iteration 106/107torch.Size([429, 1, 40, 282])\n",
            "torch.Size([429])\n",
            "torch.Size([429]) pred_shape\n",
            "torch.Size([429]) Y_shape\n",
            "heloo\n",
            "hello\n",
            "\n",
            "Epoch 48 --- loss:0.459, Epoch accuracy:82.53%, Validation loss:1.507, Validation accuracy:56.18%\n",
            "Epoch 49: iteration 106/107torch.Size([429, 1, 40, 282])\n",
            "torch.Size([429])\n",
            "torch.Size([429]) pred_shape\n",
            "torch.Size([429]) Y_shape\n",
            "heloo\n",
            "hello\n",
            "\n",
            "Epoch 49 --- loss:0.465, Epoch accuracy:82.65%, Validation loss:1.522, Validation accuracy:53.15%\n",
            "Epoch 50: iteration 55/107"
          ]
        }
      ]
    },
    {
      "cell_type": "code",
      "source": [
        "plt.title('Loss Curve')\n",
        "plt.ylabel('Loss', fontsize=16)\n",
        "plt.xlabel('Epoch', fontsize=16)\n",
        "plt.plot(train_losses[:],'b')\n",
        "plt.plot(valid_losses[:],'r')\n",
        "plt.legend(['Training loss','Validation loss'])\n",
        "plt.show()"
      ],
      "metadata": {
        "colab": {
          "base_uri": "https://localhost:8080/",
          "height": 478
        },
        "id": "CygmiJmwI20c",
        "outputId": "7607d559-aecf-414f-9a92-f49c3873390d"
      },
      "execution_count": 60,
      "outputs": [
        {
          "output_type": "display_data",
          "data": {
            "text/plain": [
              "<Figure size 640x480 with 1 Axes>"
            ],
            "image/png": "[encoded data removed]"
          },
          "metadata": {}
        }
      ]
    },
    {
      "cell_type": "code",
      "source": [
        "epoch_accuracy = torch.tensor(epoch_accuracy)\n",
        "epochs = torch.tensor(epochs)\n",
        "plt.title(' Accuracy Curve ')\n",
        "plt.ylabel('Accuracy', fontsize=16)\n",
        "plt.xlabel('Epoch', fontsize=16)\n",
        "plt.plot(epoch_accuracy[:],'r')\n",
        "plt.plot(epochs[:],'b')\n",
        "plt.legend(['Epoch accuracy','Validation accuracy'])\n",
        "\n",
        "plt.show()"
      ],
      "metadata": {
        "colab": {
          "base_uri": "https://localhost:8080/",
          "height": 478
        },
        "id": "2ic5usAhdXWn",
        "outputId": "3e8072b3-caa7-4377-b37d-4bd558f32de2"
      },
      "execution_count": 61,
      "outputs": [
        {
          "output_type": "display_data",
          "data": {
            "text/plain": [
              "<Figure size 640x480 with 1 Axes>"
            ],
            "image/png": "[encoded data removed]"
          },
          "metadata": {}
        }
      ]
    },
    {
      "cell_type": "code",
      "source": [
        "# pick load folder  /content/checkpoints\n",
        "load_folder = '/content/checkpoints'\n",
        "\n",
        "# pick the epoch to load\n",
        "epoch = '049'\n",
        "model_name = f'parallel_all_you_wantFINAL-{epoch}.pkl'\n",
        "\n",
        "# make full load path\n",
        "load_path = os.path.join(load_folder, model_name)\n",
        "\n",
        "## instantiate empty model and populate with params from binary\n",
        "model = parallel_all_you_want(len(emotions_dict))\n",
        "load_checkpoint(optimizer, model, load_path)\n",
        "\n",
        "print(f'Loaded model from {load_path}')"
      ],
      "metadata": {
        "colab": {
          "base_uri": "https://localhost:8080/"
        },
        "id": "GA7vYodzdbxa",
        "outputId": "10a4b565-af56-45ea-8f3a-ea14c02107e3"
      },
      "execution_count": 62,
      "outputs": [
        {
          "output_type": "stream",
          "name": "stdout",
          "text": [
            "Loaded model from /content/checkpoints/parallel_all_you_wantFINAL-049.pkl\n"
          ]
        }
      ]
    },
    {
      "cell_type": "code",
      "source": [
        "if torch.cuda.is_available():\n",
        "    model.cuda()\n"
      ],
      "metadata": {
        "id": "AgJQ7xS1ddoP"
      },
      "execution_count": 63,
      "outputs": []
    },
    {
      "cell_type": "code",
      "source": [
        "# reinitialize validation function with model from chosen checkpoint\n",
        "validate = make_validate_fnc(model,criterion)\n",
        "\n",
        "# Convert 4D test feature set array to tensor and move to GPU\n",
        "X_test_tensor = torch.tensor(X_test,device=device).float()\n",
        "# Convert 4D test label set array to tensor and move to GPU\n",
        "y_test_tensor = torch.tensor(y_test,dtype=torch.long,device=device)\n",
        "\n",
        "# Get the model's performance metrics using the validation function we defined\n",
        "test_loss, test_acc, predicted_emotions = validate(X_test_tensor,y_test_tensor)\n",
        "\n",
        "print(f'Test accuracy is {test_acc:.2f}%')"
      ],
      "metadata": {
        "colab": {
          "base_uri": "https://localhost:8080/"
        },
        "id": "_U4dhKQPdgQA",
        "outputId": "e99af186-72d6-4777-f69e-77e39d70b7a2"
      },
      "execution_count": 64,
      "outputs": [
        {
          "output_type": "stream",
          "name": "stdout",
          "text": [
            "torch.Size([450]) pred_shape\n",
            "torch.Size([450]) Y_shape\n",
            "Test accuracy is 55.78%\n"
          ]
        }
      ]
    },
    {
      "cell_type": "code",
      "source": [],
      "metadata": {
        "id": "_8oUNBlmdn5n"
      },
      "execution_count": null,
      "outputs": []
    },
    {
      "cell_type": "code",
      "source": [
        "from sklearn.metrics import confusion_matrix\n",
        "import seaborn as sn\n",
        "\n",
        "# because model tested on GPU, move prediction tensor to CPU then convert to array\n",
        "predicted_emotions = predicted_emotions.cpu().numpy()\n",
        "# use labels from test set\n",
        "emotions_groundtruth = y_test\n",
        "\n",
        "# build confusion matrix and normalized confusion matrix\n",
        "conf_matrix = confusion_matrix(emotions_groundtruth, predicted_emotions)\n",
        "conf_matrix_norm = confusion_matrix(emotions_groundtruth, predicted_emotions,normalize='true')\n",
        "\n",
        "# set labels for matrix axes from emotions\n",
        "emotion_names = [emotion for emotion in emotions_dict.values()]\n",
        "\n",
        "# make a confusion matrix with labels using a DataFrame\n",
        "confmatrix_df = pd.DataFrame(conf_matrix, index=emotion_names, columns=emotion_names)\n",
        "confmatrix_df_norm = pd.DataFrame(conf_matrix_norm, index=emotion_names, columns=emotion_names)\n",
        "\n",
        "# plot confusion matrices\n",
        "plt.figure(figsize=(16,6))\n",
        "sn.set(font_scale=1.8) # emotion label and title size\n",
        "plt.subplot(1,2,1)\n",
        "plt.title('Confusion Matrix')\n",
        "sn.heatmap(confmatrix_df, annot=True, annot_kws={\"size\": 18}) #annot_kws is value font\n",
        "plt.subplot(1,2,2)\n",
        "plt.title('Normalized Confusion Matrix')\n",
        "sn.heatmap(confmatrix_df_norm, annot=True, annot_kws={\"size\": 13}) #annot_kws is value font\n",
        "\n",
        "plt.show()"
      ],
      "metadata": {
        "id": "u8z3zparxHqz",
        "colab": {
          "base_uri": "https://localhost:8080/",
          "height": 419
        },
        "outputId": "94273894-75eb-48ff-85ee-b98e100cf189"
      },
      "execution_count": 65,
      "outputs": [
        {
          "output_type": "display_data",
          "data": {
            "text/plain": [
              "<Figure size 1600x600 with 4 Axes>"
            ],
            "image/png": "[encoded data removed]"
          },
          "metadata": {}
        }
      ]
    },
    {
      "cell_type": "code",
      "source": [],
      "metadata": {
        "id": "9X4Ghzmvdtz3"
      },
      "execution_count": null,
      "outputs": []
    },
    {
      "cell_type": "code",
      "execution_count": 66,
      "metadata": {
        "id": "M8ig2IAxOW9B",
        "colab": {
          "base_uri": "https://localhost:8080/"
        },
        "outputId": "0b87920e-6d00-40ac-dbe2-08cbc54b7f20"
      },
      "outputs": [
        {
          "output_type": "stream",
          "name": "stdout",
          "text": [
            "Precision: [0.96969697 0.6        0.46728972 0.43548387 0.4109589  0.71698113\n",
            " 0.43636364 0.66666667]\n",
            "Recall: [0.53333333 0.4        0.83333333 0.45       0.5        0.63333333\n",
            " 0.4        0.63333333]\n",
            "F1 Score: [0.68817204 0.48       0.5988024  0.44262295 0.45112782 0.67256637\n",
            " 0.4173913  0.64957265]\n",
            "MCC: [0.69397705 0.43305019 0.55433499 0.36156611 0.36619197 0.63062739\n",
            " 0.33868482 0.60122956]\n"
          ]
        }
      ],
      "source": [
        "import numpy as np\n",
        "\n",
        "# Convert the DataFrame to a NumPy array\n",
        "confusion_matrix = confmatrix_df_norm.to_numpy()\n",
        "\n",
        "# Calculate True Positives, False Positives, False Negatives from the confusion matrix\n",
        "true_positives = np.diag(confusion_matrix)\n",
        "false_positives = np.sum(confusion_matrix, axis=0) - true_positives\n",
        "false_negatives = np.sum(confusion_matrix, axis=1) - true_positives\n",
        "\n",
        "# Calculate Precision, Recall, F1 Score\n",
        "precision = true_positives / (true_positives + false_positives)\n",
        "recall = true_positives / (true_positives + false_negatives)\n",
        "f1_score = 2 * (precision * recall) / (precision + recall)\n",
        "\n",
        "# Calculate True Negatives from the confusion matrix\n",
        "true_negatives = np.sum(confusion_matrix) - (true_positives + false_positives + false_negatives)\n",
        "\n",
        "# Calculate Matthews Correlation Coefficient (MCC)\n",
        "mcc = (true_positives * true_negatives - false_positives * false_negatives) / np.sqrt((true_positives + false_positives) * (true_positives + false_negatives) * (true_negatives + false_positives) * (true_negatives + false_negatives))\n",
        "\n",
        "print(\"Precision:\", precision)\n",
        "print(\"Recall:\", recall)\n",
        "print(\"F1 Score:\", f1_score)\n",
        "print(\"MCC:\", mcc)\n"
      ]
    },
    {
      "cell_type": "code",
      "source": [],
      "metadata": {
        "id": "uqS2Fg2Ld_CU"
      },
      "execution_count": null,
      "outputs": []
    },
    {
      "cell_type": "code",
      "source": [
        "from sklearn.metrics import precision_score, recall_score\n",
        "from sklearn.metrics import f1_score, matthews_corrcoef\n",
        "\n",
        "\n",
        "\n",
        "# Calculate F1 score with averaging\n",
        "f1_micro = f1_score(emotions_groundtruth, predicted_emotions, average='micro')\n",
        "f1_macro = f1_score(emotions_groundtruth, predicted_emotions, average='macro')\n",
        "f1_weighted = f1_score(emotions_groundtruth, predicted_emotions, average='weighted')\n",
        "\n",
        "# Calculate MCC\n",
        "mcc = matthews_corrcoef(emotions_groundtruth, predicted_emotions)\n",
        "\n",
        "# Print the F1 score and MCCemotions\n",
        "print(\"F1 micro:\", f1_micro)\n",
        "print(\"F1 macro:\", f1_macro)\n",
        "print(\"F1 weighted:\", f1_weighted)\n",
        "print(\"MCC:\",mcc)\n",
        "# Calculate precision with averaging\n",
        "precision_micro = precision_score(emotions_groundtruth, predicted_emotions, average='micro')\n",
        "precision_macro = precision_score(emotions_groundtruth, predicted_emotions, average='macro')\n",
        "precision_weighted = precision_score(emotions_groundtruth, predicted_emotions, average='weighted')\n",
        "\n",
        "# Calculate recall with averaging\n",
        "recall_micro = recall_score(emotions_groundtruth, predicted_emotions, average='micro')\n",
        "recall_macro = recall_score(emotions_groundtruth, predicted_emotions, average='macro')\n",
        "recall_weighted = recall_score(emotions_groundtruth, predicted_emotions, average='weighted')\n",
        "\n",
        "# Print precision and recall\n",
        "print(\"Precision micro:\", precision_micro)\n",
        "print(\"Precision macro:\", precision_macro)\n",
        "print(\"Precision weighted:\", precision_weighted)\n",
        "print(\"Recall micro:\", recall_micro)\n",
        "print(\"Recall macro:\", recall_macro)\n",
        "print(\"Recall weighted:\", recall_weighted)"
      ],
      "metadata": {
        "id": "gyM0JV0fWAmm",
        "colab": {
          "base_uri": "https://localhost:8080/"
        },
        "outputId": "09975c2b-f8c6-4856-c70a-efa6f6664753"
      },
      "execution_count": 67,
      "outputs": [
        {
          "output_type": "stream",
          "name": "stdout",
          "text": [
            "F1 micro: 0.5577777777777778\n",
            "F1 macro: 0.5502773840289052\n",
            "F1 weighted: 0.5593763360676138\n",
            "MCC: 0.49504703846683557\n",
            "Precision micro: 0.5577777777777778\n",
            "Precision macro: 0.5783568835683964\n",
            "Precision weighted: 0.5883425805681943\n",
            "Recall micro: 0.5577777777777778\n",
            "Recall macro: 0.5479166666666666\n",
            "Recall weighted: 0.5577777777777778\n"
          ]
        }
      ]
    }
  ]
}