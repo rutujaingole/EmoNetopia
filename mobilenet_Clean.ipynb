{
  "nbformat": 4,
  "nbformat_minor": 0,
  "metadata": {
    "colab": {
      "provenance": [],
      "gpuType": "T4"
    },
    "kernelspec": {
      "name": "python3",
      "display_name": "Python 3"
    },
    "language_info": {
      "name": "python"
    },
    "accelerator": "GPU"
  },
  "cells": [
    {
      "cell_type": "code",
      "execution_count": 1,
      "metadata": {
        "id": "wfG3fgRefp5F"
      },
      "outputs": [],
      "source": [
        "import torch\n",
        "import torch.nn as nn\n",
        "import matplotlib.pyplot as plt\n",
        "import numpy as np\n",
        "import pandas as pd\n",
        "import os,glob\n",
        "import librosa\n",
        "import librosa.display\n",
        "import IPython\n",
        "from IPython.display import Audio\n",
        "from IPython.display import Image\n",
        "import warnings; warnings.filterwarnings('ignore')"
      ]
    },
    {
      "cell_type": "code",
      "source": [
        "from google.colab import drive\n",
        "drive.mount('/content/drive')"
      ],
      "metadata": {
        "id": "8jJD0O56f6AV",
        "colab": {
          "base_uri": "https://localhost:8080/"
        },
        "outputId": "2cb2773c-ca03-43dd-9316-332324885dd5"
      },
      "execution_count": 2,
      "outputs": [
        {
          "output_type": "stream",
          "name": "stdout",
          "text": [
            "Mounted at /content/drive\n"
          ]
        }
      ]
    },
    {
      "cell_type": "code",
      "source": [
        "!cp '/content/drive/MyDrive/content/RAVDESS.zip' .\n",
        "!unzip -q RAVDESS.zip"
      ],
      "metadata": {
        "id": "rv6DnnTMf6DC"
      },
      "execution_count": 3,
      "outputs": []
    },
    {
      "cell_type": "code",
      "source": [],
      "metadata": {
        "id": "aEJUT2rhf6GM"
      },
      "execution_count": 3,
      "outputs": []
    },
    {
      "cell_type": "code",
      "source": [
        "sample_rate=48000\n",
        "def feature_melspectrogram(\n",
        "    waveform,\n",
        "    sample_rate,\n",
        "    fft = 1024,\n",
        "    winlen = 512,\n",
        "    window='hamming',\n",
        "    hop=256,\n",
        "    mels=128,\n",
        "    ):\n",
        "\n",
        "    # Produce the mel spectrogram for all STFT frames and get the mean of each column of the resulting matrix to create a feature array\n",
        "    # Using 8khz as upper frequency bound should be enough for most speech classification tasks\n",
        "    melspectrogram = librosa.feature.melspectrogram(\n",
        "        y=waveform,\n",
        "        sr=sample_rate,\n",
        "        n_fft=fft,\n",
        "        win_length=winlen,\n",
        "        window=window,\n",
        "        hop_length=hop,\n",
        "        n_mels=mels,\n",
        "        fmax=sample_rate/2)\n",
        "\n",
        "    # convert from power (amplitude**2) to decibels\n",
        "    # necessary for network to learn - doesn't converge with raw power spectrograms\n",
        "    melspectrogram = librosa.power_to_db(melspectrogram, ref=np.max)\n",
        "\n",
        "    return melspectrogram\n",
        "\n",
        "def feature_mfcc(\n",
        "    waveform,\n",
        "    sample_rate,\n",
        "    n_mfcc = 40,\n",
        "    fft = 1024,\n",
        "    winlen = 512,\n",
        "    window='hamming',\n",
        "    #hop=256, # increases # of time steps; was not helpful\n",
        "    mels=128\n",
        "    ):\n",
        "\n",
        "    # Compute the MFCCs for all STFT frames\n",
        "    # 40 mel filterbanks (n_mfcc) = 40 coefficients\n",
        "    mfc_coefficients=librosa.feature.mfcc(\n",
        "        y=waveform,\n",
        "        sr=sample_rate,\n",
        "        n_mfcc=n_mfcc,\n",
        "        n_fft=fft,\n",
        "        win_length=winlen,\n",
        "        window=window,\n",
        "        #hop_length=hop,\n",
        "        n_mels=mels,\n",
        "        fmax=sample_rate/2\n",
        "        )\n",
        "\n",
        "    return mfc_coefficients\n",
        "\n",
        "def get_features(waveforms, features, samplerate):\n",
        "\n",
        "    # initialize counter to track progress\n",
        "    file_count = 0\n",
        "\n",
        "    # process each waveform individually to get its MFCCs\n",
        "    for waveform in waveforms:\n",
        "        mfccs = feature_mfcc(waveform, sample_rate)\n",
        "        features.append(mfccs)\n",
        "        file_count += 1\n",
        "\n",
        "        # print progress\n",
        "        print('\\r'+f' Processed {file_count}/{len(waveforms)} waveforms',end='')\n",
        "\n",
        "    # return all features from list of waveforms\n",
        "    return features\n",
        "\n",
        "def get_waveforms(file):\n",
        "\n",
        "    # load an individual sample audio file\n",
        "    # read the full 3 seconds of the file, cut off the first 0.5s of silence; native sample rate = 48k\n",
        "    # don't need to store the sample rate that librosa.load returns\n",
        "    waveform, _ = librosa.load(file, duration=3, offset=0.5, sr=sample_rate)\n",
        "\n",
        "    # make sure waveform vectors are homogenous by defining explicitly\n",
        "    waveform_homo = np.zeros((int(sample_rate*3,)))\n",
        "    waveform_homo[:len(waveform)] = waveform\n",
        "\n",
        "    # return a single file's waveform\n",
        "    return waveform_homo\n",
        "\n",
        "# RAVDESS dataset emotions\n",
        "# shift emotions left to be 0 indexed for PyTorch\n",
        "emotions_dict ={\n",
        "    '0':'surprised',\n",
        "    '1':'neutral',\n",
        "    '2':'calm',\n",
        "    '3':'happy',\n",
        "    '4':'sad',\n",
        "    '5':'angry',\n",
        "    '6':'fearful',\n",
        "    '7':'disgust'\n",
        "}\n",
        "\n",
        "# Additional attributes from RAVDESS to play with\n",
        "emotion_attributes = {\n",
        "    '01': 'normal',\n",
        "    '02': 'strong'\n",
        "}\n"
      ],
      "metadata": {
        "id": "infgRdAiLjNq"
      },
      "execution_count": 4,
      "outputs": []
    },
    {
      "cell_type": "code",
      "source": [],
      "metadata": {
        "id": "La5AXGe2f6H1"
      },
      "execution_count": 4,
      "outputs": []
    },
    {
      "cell_type": "code",
      "source": [
        "\n",
        "data_path='./Actor_*/*.wav'\n",
        "def load_data():\n",
        "  print('hlo')\n",
        "  emotions=[]\n",
        "  waveforms=[]\n",
        "  intensities,genders=[],[]\n",
        "  file_count=0\n",
        "  for file in glob.glob(data_path):\n",
        "    file_name=os.path.basename(file)\n",
        "    emotion=int(file_name.split(\"-\")[2])\n",
        "    if emotion==8: emotion=0\n",
        "    intensity=emotion_attributes[file_name.split(\"-\")[3]]\n",
        "    if(int((file_name.split(\"-\")[6]).split(\".\")[0]))%2==0:\n",
        "      gender='female'\n",
        "    else:\n",
        "      gender='male'\n",
        "    waveform=get_waveforms(file)\n",
        "    waveforms.append(waveform)\n",
        "    emotions.append(emotion)\n",
        "    intensities.append(intensity)\n",
        "    genders.append(gender)\n",
        "    file_count+=1\n",
        "    print('\\r'+f' Processed{file_count}/{1440} audio samples',end='')\n",
        "  return waveforms, emotions, intensities, genders"
      ],
      "metadata": {
        "id": "Rusjn6IkaC5c"
      },
      "execution_count": 5,
      "outputs": []
    },
    {
      "cell_type": "code",
      "source": [
        "waveforms,emotions,intensities,genders=[],[],[],[]\n",
        "waveforms,emotions,intensities, genders=load_data()"
      ],
      "metadata": {
        "id": "Io4wkUKzf6Jz",
        "colab": {
          "base_uri": "https://localhost:8080/"
        },
        "outputId": "33623151-f481-4b93-f381-6672acff528a"
      },
      "execution_count": 6,
      "outputs": [
        {
          "output_type": "stream",
          "name": "stdout",
          "text": [
            "hlo\n",
            " Processed1440/1440 audio samples"
          ]
        }
      ]
    },
    {
      "cell_type": "code",
      "source": [
        "print(f'Waveforms set: {len(waveforms)} samples')\n",
        "\n",
        "print(f'Waveform signal length: {len(waveforms[0])}')\n",
        "print(f'Emotions set: {len(emotions)} sample labels')"
      ],
      "metadata": {
        "id": "e8t8PTtdf6MZ",
        "colab": {
          "base_uri": "https://localhost:8080/"
        },
        "outputId": "4c2a540a-f428-4746-f914-9c96652bf342"
      },
      "execution_count": 7,
      "outputs": [
        {
          "output_type": "stream",
          "name": "stdout",
          "text": [
            "Waveforms set: 1440 samples\n",
            "Waveform signal length: 144000\n",
            "Emotions set: 1440 sample labels\n"
          ]
        }
      ]
    },
    {
      "cell_type": "code",
      "source": [],
      "metadata": {
        "id": "nyJ-JOG2f6OQ"
      },
      "execution_count": 7,
      "outputs": []
    },
    {
      "cell_type": "code",
      "source": [
        "train_set, valid_set, test_set=[],[],[]\n",
        "X_train,X_valid,X_test=[],[],[]\n",
        "y_train,y_valid,y_test = [],[],[]\n",
        "waveforms=np.array(waveforms)\n",
        "for emotion_num in range(len(emotions_dict)):\n",
        "  emotion_indices=[index for index, emotion in enumerate(emotions) if emotion==emotion_num]\n",
        "  np.random.seed(69)\n",
        "  emotion_indices=np.random.permutation(emotion_indices)\n",
        "  dim=len(emotion_indices)\n",
        "    # train set is first 80%\n",
        "  train_indices = emotion_indices[:int(0.8*dim)]\n",
        "    # validation set is next 10% (between 80% and 90%)\n",
        "  valid_indices = emotion_indices[int(0.8*dim):int(0.9*dim)]\n",
        "    # test set is last 10% (between 90% - end/100%)\n",
        "  test_indices = emotion_indices[int(0.9*dim):]\n",
        "\n",
        "  X_train.append(waveforms[train_indices,:])\n",
        "  y_train.append(np.array([emotion_num]*len(train_indices),dtype=np.int32))\n",
        "    # create validation waveforms/labels sets\n",
        "  X_valid.append(waveforms[valid_indices,:])\n",
        "  y_valid.append(np.array([emotion_num]*len(valid_indices),dtype=np.int32))\n",
        "    # create test waveforms/labels sets\n",
        "  X_test.append(waveforms[test_indices,:])\n",
        "  y_test.append(np.array([emotion_num]*len(test_indices),dtype=np.int32))\n",
        "\n",
        "    # store indices for each emotion set to verify uniqueness between sets\n",
        "  train_set.append(train_indices)\n",
        "  valid_set.append(valid_indices)\n",
        "  test_set.append(test_indices)\n",
        "# concatenate, in order, all waveforms back into one array\n",
        "X_train = np.concatenate(X_train,axis=0)\n",
        "X_valid = np.concatenate(X_valid,axis=0)\n",
        "X_test = np.concatenate(X_test,axis=0)\n",
        "\n",
        "# concatenate, in order, all emotions back into one array\n",
        "y_train = np.concatenate(y_train,axis=0)\n",
        "y_valid = np.concatenate(y_valid,axis=0)\n",
        "y_test = np.concatenate(y_test,axis=0)\n",
        "\n",
        "# combine and store indices for all emotions' train, validation, test sets to verify uniqueness of sets\n",
        "train_set = np.concatenate(train_set,axis=0)\n",
        "valid_set = np.concatenate(valid_set,axis=0)\n",
        "test_set = np.concatenate(test_set,axis=0)\n",
        "\n",
        "# check shape of each set\n",
        "print(f'Training waveforms:{X_train.shape}, y_train:{y_train.shape}')\n",
        "print(f'Validation waveforms:{X_valid.shape}, y_valid:{y_valid.shape}')\n",
        "print(f'Test waveforms:{X_test.shape}, y_test:{y_test.shape}')\n",
        "\n",
        "uniques, count=np.unique(np.concatenate([train_set,test_set,valid_set],axis=0), return_counts=True)\n",
        "if sum(count==1) == len(emotions):\n",
        "    print(f'\\nSets are unique: {sum(count==1)} samples out of {len(emotions)} are unique')\n",
        "else:\n",
        "    print(f'\\nSets are NOT unique: {sum(count==1)} samples out of {len(emotions)} are unique')"
      ],
      "metadata": {
        "id": "ysqAk3kK_tqE",
        "colab": {
          "base_uri": "https://localhost:8080/"
        },
        "outputId": "9aca07c0-bd81-45ab-ec90-c97437ad2bcb"
      },
      "execution_count": 8,
      "outputs": [
        {
          "output_type": "stream",
          "name": "stdout",
          "text": [
            "Training waveforms:(1147, 144000), y_train:(1147,)\n",
            "Validation waveforms:(143, 144000), y_valid:(143,)\n",
            "Test waveforms:(150, 144000), y_test:(150,)\n",
            "\n",
            "Sets are unique: 1440 samples out of 1440 are unique\n"
          ]
        }
      ]
    },
    {
      "cell_type": "code",
      "source": [],
      "metadata": {
        "id": "gdrQ9jtVf6P2"
      },
      "execution_count": 8,
      "outputs": []
    },
    {
      "cell_type": "code",
      "source": [
        "# initialize feature arrays\n",
        "# We extract MFCC features from waveforms and store in respective 'features' array\n",
        "features_train, features_valid, features_test = [],[],[]\n",
        "\n",
        "print('Train waveforms:') # get training set features\n",
        "features_train = get_features(X_train, features_train, sample_rate)\n",
        "\n",
        "print('\\n\\nValidation waveforms:') # get validation set features\n",
        "features_valid = get_features(X_valid, features_valid, sample_rate)\n",
        "\n",
        "print('\\n\\nTest waveforms:') # get test set features\n",
        "features_test = get_features(X_test, features_test, sample_rate)\n",
        "\n",
        "print(f'\\n\\nFeatures set: {len(features_train)+len(features_test)+len(features_valid)} total, {len(features_train)} train, {len(features_valid)} validation, {len(features_test)} test samples')\n",
        "\n",
        "print(f'Features (MFC coefficient matrix) shape: {len(features_train[0])} mel frequency coefficients x {len(features_train[0][1])} time steps')"
      ],
      "metadata": {
        "id": "fp-7CciN_-pG",
        "colab": {
          "base_uri": "https://localhost:8080/"
        },
        "outputId": "c531f105-3041-4810-d397-2ad0b43378ab"
      },
      "execution_count": 9,
      "outputs": [
        {
          "output_type": "stream",
          "name": "stdout",
          "text": [
            "Train waveforms:\n",
            " Processed 1147/1147 waveforms\n",
            "\n",
            "Validation waveforms:\n",
            " Processed 143/143 waveforms\n",
            "\n",
            "Test waveforms:\n",
            " Processed 150/150 waveforms\n",
            "\n",
            "Features set: 1440 total, 1147 train, 143 validation, 150 test samples\n",
            "Features (MFC coefficient matrix) shape: 40 mel frequency coefficients x 282 time steps\n"
          ]
        }
      ]
    },
    {
      "cell_type": "code",
      "source": [],
      "metadata": {
        "id": "QC8xevd2f6S3"
      },
      "execution_count": 9,
      "outputs": []
    },
    {
      "cell_type": "code",
      "source": [
        "X_train = np.expand_dims(features_train, 1)\n",
        "X_valid = np.expand_dims(features_valid, 1)\n",
        "X_test = np.expand_dims(features_test, 1)\n",
        "\n",
        "\n",
        "y_train = np.array(y_train)\n",
        "y_valid = np.array(y_valid)\n",
        "y_test = np.array(y_test)\n",
        "\n",
        "# confiorm that we have tensor-ready 4D data array\n",
        "# should print (batch, channel, width, height) == (4320, 1, 128, 282) when multiples==2\n",
        "print(f'Shape of 4D feature array for input tensor: {X_train.shape} train, {X_valid.shape} validation, {X_test.shape} test')\n",
        "print(f'Shape of emotion labels: {y_train.shape} train, {y_valid.shape} validation, {y_test.shape} test')"
      ],
      "metadata": {
        "id": "PsmRYbzmAS--",
        "colab": {
          "base_uri": "https://localhost:8080/"
        },
        "outputId": "6bdf33df-e8df-460c-f4fe-75e52c6bd6cb"
      },
      "execution_count": 10,
      "outputs": [
        {
          "output_type": "stream",
          "name": "stdout",
          "text": [
            "Shape of 4D feature array for input tensor: (1147, 1, 40, 282) train, (143, 1, 40, 282) validation, (150, 1, 40, 282) test\n",
            "Shape of emotion labels: (1147,) train, (143,) validation, (150,) test\n"
          ]
        }
      ]
    },
    {
      "cell_type": "code",
      "source": [],
      "metadata": {
        "id": "GNsvukwnf6V8"
      },
      "execution_count": 10,
      "outputs": []
    },
    {
      "cell_type": "code",
      "source": [
        "from sklearn.preprocessing import StandardScaler\n",
        "\n",
        "scaler = StandardScaler()\n",
        "\n",
        "#### Scale the training data ####\n",
        "# store shape so we can transform it back\n",
        "N,C,H,W = X_train.shape\n",
        "# Reshape to 1D because StandardScaler operates on a 1D array\n",
        "# tell numpy to infer shape of 1D array with '-1' argument\n",
        "X_train = np.reshape(X_train, (N,-1))\n",
        "X_train = scaler.fit_transform(X_train)\n",
        "# Transform back to NxCxHxW 4D tensor format\n",
        "X_train = np.reshape(X_train, (N,C,H,W))\n",
        "\n",
        "##### Scale the validation set ####\n",
        "N,C,H,W = X_valid.shape\n",
        "X_valid = np.reshape(X_valid, (N,-1))\n",
        "X_valid = scaler.transform(X_valid)\n",
        "X_valid = np.reshape(X_valid, (N,C,H,W))\n",
        "\n",
        "#### Scale the test set ####\n",
        "N,C,H,W = X_test.shape\n",
        "X_test = np.reshape(X_test, (N,-1))\n",
        "X_test = scaler.transform(X_test)\n",
        "X_test = np.reshape(X_test, (N,C,H,W))\n",
        "\n",
        "# check shape of each set again\n",
        "print(f'X_train scaled:{X_train.shape}, y_train:{y_train.shape}')\n",
        "print(f'X_valid scaled:{X_valid.shape}, y_valid:{y_valid.shape}')\n",
        "print(f'X_test scaled:{X_test.shape}, y_test:{y_test.shape}')"
      ],
      "metadata": {
        "id": "qQecuWFcAY2q",
        "colab": {
          "base_uri": "https://localhost:8080/"
        },
        "outputId": "df1014a3-e0ae-4b62-aa01-b5d83797c3c8"
      },
      "execution_count": 11,
      "outputs": [
        {
          "output_type": "stream",
          "name": "stdout",
          "text": [
            "X_train scaled:(1147, 1, 40, 282), y_train:(1147,)\n",
            "X_valid scaled:(143, 1, 40, 282), y_valid:(143,)\n",
            "X_test scaled:(150, 1, 40, 282), y_test:(150,)\n"
          ]
        }
      ]
    },
    {
      "cell_type": "code",
      "source": [
        "filename = 'features+labels.npy'\n",
        "\n",
        "# open file in write mode and write data\n",
        "with open(filename, 'wb') as f:\n",
        "    np.save(f, X_train)\n",
        "    np.save(f, X_valid)\n",
        "    np.save(f, X_test)\n",
        "    np.save(f, y_train)\n",
        "    np.save(f, y_valid)\n",
        "    np.save(f, y_test)\n",
        "\n",
        "print(f'Features and labels saved to {filename}')"
      ],
      "metadata": {
        "id": "9U9c78Bhgmbe",
        "colab": {
          "base_uri": "https://localhost:8080/"
        },
        "outputId": "8c311a71-fa48-4f73-ca30-8f9987edc5d3"
      },
      "execution_count": 12,
      "outputs": [
        {
          "output_type": "stream",
          "name": "stdout",
          "text": [
            "Features and labels saved to features+labels.npy\n"
          ]
        }
      ]
    },
    {
      "cell_type": "code",
      "source": [
        "filename = 'features+labels.npy'\n",
        "\n",
        "# open file in read mode and read data\n",
        "with open(filename, 'rb') as f:\n",
        "    X_train = np.load(f)\n",
        "    X_valid = np.load(f)\n",
        "    X_test = np.load(f)\n",
        "    y_train = np.load(f)\n",
        "    y_valid = np.load(f)\n",
        "    y_test = np.load(f)\n",
        "\n",
        "# Check that we've recovered the right data\n",
        "print(f'X_train:{X_train.shape}, y_train:{y_train.shape}')\n",
        "print(f'X_valid:{X_valid.shape}, y_valid:{y_valid.shape}')\n",
        "print(f'X_test:{X_test.shape}, y_test:{y_test.shape}')"
      ],
      "metadata": {
        "id": "ItdJhZD8gmeM",
        "colab": {
          "base_uri": "https://localhost:8080/"
        },
        "outputId": "78fde1e8-8fe4-4591-c7f2-33e5bbad4f66"
      },
      "execution_count": 13,
      "outputs": [
        {
          "output_type": "stream",
          "name": "stdout",
          "text": [
            "X_train:(1147, 1, 40, 282), y_train:(1147,)\n",
            "X_valid:(143, 1, 40, 282), y_valid:(143,)\n",
            "X_test:(150, 1, 40, 282), y_test:(150,)\n"
          ]
        }
      ]
    },
    {
      "cell_type": "code",
      "source": [
        "class parallel_all_you_want(nn.Module):\n",
        "    # Define all layers present in the network\n",
        "    def __init__(self,num_emotions):\n",
        "        super().__init__()\n",
        "\n",
        "        ################ TRANSFORMER BLOCK #############################\n",
        "        # maxpool the input feature map/tensor to the transformer\n",
        "        # a rectangular kernel worked better here for the rectangular input spectrogram feature map/tensor\n",
        "        self.transformer_maxpool = nn.MaxPool2d(kernel_size=[1,4], stride=[1,4])\n",
        "\n",
        "        # define single transformer encoder layer\n",
        "        # self-attention + feedforward network from \"Attention is All You Need\" paper\n",
        "        # 4 multi-head self-attention layers each with 40-->512--->40 feedforward network\n",
        "        transformer_layer = nn.TransformerEncoderLayer(\n",
        "            d_model=40, # input feature (frequency) dim after maxpooling 40*282 -> 40*70 (MFC*time)\n",
        "            nhead=4, # 4 self-attention layers in each multi-head self-attention layer in each encoder block\n",
        "            dim_feedforward=512, # 2 linear layers in each encoder block's feedforward network: dim 40-->512--->40\n",
        "            dropout=0.4,\n",
        "            activation='relu' # ReLU: avoid saturation/tame gradient/reduce compute time\n",
        "        )\n",
        "\n",
        "        # I'm using 4 instead of the 6 identical stacked encoder layrs used in Attention is All You Need paper\n",
        "        # Complete transformer block contains 4 full transformer encoder layers (each w/ multihead self-attention+feedforward)\n",
        "        self.transformer_encoder = nn.TransformerEncoder(transformer_layer, num_layers=4)\n",
        "        self.conv2Dblock1 = nn.Sequential(\n",
        "\n",
        "            # 1st 2D convolution layer\n",
        "            nn.Conv2d(\n",
        "                in_channels=1, # input volume depth == input channel dim == 1\n",
        "                out_channels=16, # expand output feature map volume's depth to 16\n",
        "                kernel_size=3, # typical 3*3 stride 1 kernel\n",
        "                stride=1,\n",
        "                padding=1\n",
        "                      ),\n",
        "            nn.BatchNorm2d(16), # batch normalize the output feature map before activation\n",
        "            nn.ReLU(), # feature map --> activation map\n",
        "            nn.MaxPool2d(kernel_size=2, stride=2), #typical maxpool kernel size\n",
        "            nn.Dropout(p=0.3), #randomly zero 30% of 1st layer's output feature map in training\n",
        "\n",
        "            # 2nd 2D convolution layer identical to last except output dim, maxpool kernel\n",
        "            nn.Conv2d(\n",
        "                in_channels=16,\n",
        "                out_channels=32, # expand output feature map volume's depth to 32\n",
        "                kernel_size=3,\n",
        "                stride=1,\n",
        "                padding=1\n",
        "                      ),\n",
        "            nn.BatchNorm2d(32),\n",
        "            nn.ReLU(),\n",
        "            nn.MaxPool2d(kernel_size=4, stride=4), # increase maxpool kernel for subsequent filters\n",
        "            nn.Dropout(p=0.3),\n",
        "              nn.Conv2d(\n",
        "                in_channels=32,\n",
        "                out_channels=64, # expand output feature map volume's depth to 64\n",
        "                kernel_size=3,\n",
        "                stride=1,\n",
        "                padding=1\n",
        "                      ),\n",
        "            nn.BatchNorm2d(64),\n",
        "            nn.ReLU(),\n",
        "            nn.MaxPool2d(kernel_size=4, stride=4),\n",
        "            nn.Dropout(p=0.3),\n",
        "        )\n",
        "        ############### 2ND PARALLEL 2D CONVOLUTION BLOCK ############\n",
        "        # 3 sequential conv2D layers: (1,40,282) --> (16, 20, 141) -> (32, 5, 35) -> (64, 1, 8)\n",
        "        self.conv2Dblock2 = nn.Sequential(\n",
        "\n",
        "            # 1st 2D convolution layer\n",
        "           nn.Conv2d(\n",
        "                in_channels=1,\n",
        "                out_channels=16,\n",
        "                kernel_size=3,\n",
        "                stride=1,\n",
        "                padding=1\n",
        "            ),\n",
        "            nn.BatchNorm2d(16),\n",
        "            nn.ReLU(),\n",
        "            nn.MaxPool2d(kernel_size=2, stride=2),\n",
        "            nn.Dropout(p=0.3),\n",
        "            nn.Conv2d(\n",
        "                in_channels=16,\n",
        "                out_channels=32,\n",
        "                kernel_size=3,\n",
        "                stride=1,\n",
        "                padding=1\n",
        "            ),\n",
        "            nn.BatchNorm2d(32),\n",
        "            nn.ReLU(),\n",
        "            nn.MaxPool2d(kernel_size=4, stride=4),\n",
        "            nn.Dropout(p=0.3),\n",
        "            nn.Conv2d(\n",
        "                in_channels=32,\n",
        "                out_channels=64,\n",
        "                kernel_size=3,\n",
        "                stride=1,\n",
        "                padding=1\n",
        "            ),\n",
        "            nn.BatchNorm2d(64),\n",
        "            nn.ReLU(),\n",
        "            nn.MaxPool2d(kernel_size=4, stride=4),\n",
        "            nn.Dropout(p=0.3),\n",
        "\n",
        "            # 3rd 2D convolution layer identical to last except output dim\n",
        "\n",
        "        )\n",
        "        self.fc1_linear = nn.Linear(512*2+40,num_emotions)\n",
        "\n",
        "        ### Softmax layer for the 8 output logits from final FC linear layer\n",
        "        self.softmax_out = nn.Softmax(dim=1) # dim==1 is the freq embedding\n",
        "    def forward(self,x):\n",
        "\n",
        "        ############ 1st parallel Conv2D block: 4 Convolutional layers ############################\n",
        "        # create final feature embedding from 1st convolutional layer\n",
        "        # input features pased through 4 sequential 2D convolutional layers\n",
        "        conv2d_embedding1 = self.conv2Dblock1(x) # x == N/batch * channel * freq * time\n",
        "\n",
        "        # flatten final 64*1*8 feature map from convolutional layers to length 512 1D array\n",
        "        # skip the 1st (N/batch) dimension when flattening\n",
        "        conv2d_embedding1 = torch.flatten(conv2d_embedding1, start_dim=1)\n",
        "\n",
        "        ############ 2nd parallel Conv2D block: 4 Convolutional layers #############################\n",
        "        # create final feature embedding from 2nd convolutional layer\n",
        "        # input features pased through 4 sequential 2D convolutional layers\n",
        "        conv2d_embedding2 = self.conv2Dblock2(x) # x == N/batch * channel * freq * time\n",
        "\n",
        "        # flatten final 64*1*8 feature map from convolutional layers to length 512 1D array\n",
        "        # skip the 1st (N/batch) dimension when flattening\n",
        "        conv2d_embedding2 = torch.flatten(conv2d_embedding2, start_dim=1)\n",
        "\n",
        "\n",
        "        ########## 4-encoder-layer Transformer block w/ 40-->512-->40 feedfwd network ##############\n",
        "        # maxpool input feature map: 1*40*282 w/ 1*4 kernel --> 1*40*70\n",
        "        x_maxpool = self.transformer_maxpool(x)\n",
        "\n",
        "        # remove channel dim: 1*40*70 --> 40*70\n",
        "        x_maxpool_reduced = torch.squeeze(x_maxpool,1)\n",
        "\n",
        "        # convert maxpooled feature map format: batch * freq * time ---> time * batch * freq format\n",
        "        # because transformer encoder layer requires tensor in format: time * batch * embedding (freq)\n",
        "        x = x_maxpool_reduced.permute(2,0,1)\n",
        "\n",
        "        # finally, pass reduced input feature map x into transformer encoder layers\n",
        "        transformer_output = self.transformer_encoder(x)\n",
        "\n",
        "        # create final feature emedding from transformer layer by taking mean in the time dimension (now the 0th dim)\n",
        "        # transformer outputs 2x40 (MFCC embedding*time) feature map, take mean of columns i.e. take time average\n",
        "        transformer_embedding = torch.mean(transformer_output, dim=0) # dim 40x70 --> 40\n",
        "        complete_embedding = torch.cat([conv2d_embedding1, conv2d_embedding2,transformer_embedding], dim=1)\n",
        "\n",
        "        ######### final FC linear layer, need logits for loss #########################\n",
        "        output_logits = self.fc1_linear(complete_embedding)\n",
        "\n",
        "        ######### Final Softmax layer: use logits from FC linear, get softmax for prediction ######\n",
        "        output_softmax = self.softmax_out(output_logits)\n",
        "\n",
        "        # need output logits to compute cross entropy loss, need softmax probabilities to predict class\n",
        "        return output_logits, output_softmax"
      ],
      "metadata": {
        "id": "-hQ15AwQgmhM"
      },
      "execution_count": 14,
      "outputs": []
    },
    {
      "cell_type": "code",
      "source": [
        "!pip install torchinfo\n",
        "from torchinfo import summary\n",
        "\n",
        "# need device to instantiate model\n",
        "device = 'cpu'\n",
        "\n",
        "# instantiate model for 8 emotions and move to GPU\n",
        "model = parallel_all_you_want(len(emotions_dict)).to(device)\n",
        "\n",
        "# include input feature map dims in call to summary()\n",
        "summary(model, input_size=(2,1,40,282))"
      ],
      "metadata": {
        "id": "2DG2NV63gmjx",
        "colab": {
          "base_uri": "https://localhost:8080/"
        },
        "outputId": "c608b10d-0f93-4c87-c1c4-19436d0ef2dd"
      },
      "execution_count": 15,
      "outputs": [
        {
          "output_type": "stream",
          "name": "stdout",
          "text": [
            "Collecting torchinfo\n",
            "  Downloading torchinfo-1.8.0-py3-none-any.whl (23 kB)\n",
            "Installing collected packages: torchinfo\n",
            "Successfully installed torchinfo-1.8.0\n"
          ]
        },
        {
          "output_type": "execute_result",
          "data": {
            "text/plain": [
              "===============================================================================================\n",
              "Layer (type:depth-idx)                        Output Shape              Param #\n",
              "===============================================================================================\n",
              "parallel_all_you_want                         [2, 8]                    --\n",
              "├─Sequential: 1-1                             [2, 64, 1, 8]             --\n",
              "│    └─Conv2d: 2-1                            [2, 16, 40, 282]          160\n",
              "│    └─BatchNorm2d: 2-2                       [2, 16, 40, 282]          32\n",
              "│    └─ReLU: 2-3                              [2, 16, 40, 282]          --\n",
              "│    └─MaxPool2d: 2-4                         [2, 16, 20, 141]          --\n",
              "│    └─Dropout: 2-5                           [2, 16, 20, 141]          --\n",
              "│    └─Conv2d: 2-6                            [2, 32, 20, 141]          4,640\n",
              "│    └─BatchNorm2d: 2-7                       [2, 32, 20, 141]          64\n",
              "│    └─ReLU: 2-8                              [2, 32, 20, 141]          --\n",
              "│    └─MaxPool2d: 2-9                         [2, 32, 5, 35]            --\n",
              "│    └─Dropout: 2-10                          [2, 32, 5, 35]            --\n",
              "│    └─Conv2d: 2-11                           [2, 64, 5, 35]            18,496\n",
              "│    └─BatchNorm2d: 2-12                      [2, 64, 5, 35]            128\n",
              "│    └─ReLU: 2-13                             [2, 64, 5, 35]            --\n",
              "│    └─MaxPool2d: 2-14                        [2, 64, 1, 8]             --\n",
              "│    └─Dropout: 2-15                          [2, 64, 1, 8]             --\n",
              "├─Sequential: 1-2                             [2, 64, 1, 8]             --\n",
              "│    └─Conv2d: 2-16                           [2, 16, 40, 282]          160\n",
              "│    └─BatchNorm2d: 2-17                      [2, 16, 40, 282]          32\n",
              "│    └─ReLU: 2-18                             [2, 16, 40, 282]          --\n",
              "│    └─MaxPool2d: 2-19                        [2, 16, 20, 141]          --\n",
              "│    └─Dropout: 2-20                          [2, 16, 20, 141]          --\n",
              "│    └─Conv2d: 2-21                           [2, 32, 20, 141]          4,640\n",
              "│    └─BatchNorm2d: 2-22                      [2, 32, 20, 141]          64\n",
              "│    └─ReLU: 2-23                             [2, 32, 20, 141]          --\n",
              "│    └─MaxPool2d: 2-24                        [2, 32, 5, 35]            --\n",
              "│    └─Dropout: 2-25                          [2, 32, 5, 35]            --\n",
              "│    └─Conv2d: 2-26                           [2, 64, 5, 35]            18,496\n",
              "│    └─BatchNorm2d: 2-27                      [2, 64, 5, 35]            128\n",
              "│    └─ReLU: 2-28                             [2, 64, 5, 35]            --\n",
              "│    └─MaxPool2d: 2-29                        [2, 64, 1, 8]             --\n",
              "│    └─Dropout: 2-30                          [2, 64, 1, 8]             --\n",
              "├─MaxPool2d: 1-3                              [2, 1, 40, 70]            --\n",
              "├─TransformerEncoder: 1-4                     [70, 2, 40]               --\n",
              "│    └─ModuleList: 2-31                       --                        --\n",
              "│    │    └─TransformerEncoderLayer: 3-1      [70, 2, 40]               48,232\n",
              "│    │    └─TransformerEncoderLayer: 3-2      [70, 2, 40]               48,232\n",
              "│    │    └─TransformerEncoderLayer: 3-3      [70, 2, 40]               48,232\n",
              "│    │    └─TransformerEncoderLayer: 3-4      [70, 2, 40]               48,232\n",
              "├─Linear: 1-5                                 [2, 8]                    8,520\n",
              "├─Softmax: 1-6                                [2, 8]                    --\n",
              "===============================================================================================\n",
              "Total params: 248,488\n",
              "Trainable params: 248,488\n",
              "Non-trainable params: 0\n",
              "Total mult-adds (M): 84.19\n",
              "===============================================================================================\n",
              "Input size (MB): 0.09\n",
              "Forward/backward pass size (MB): 20.87\n",
              "Params size (MB): 0.89\n",
              "Estimated Total Size (MB): 21.85\n",
              "==============================================================================================="
            ]
          },
          "metadata": {},
          "execution_count": 15
        }
      ]
    },
    {
      "cell_type": "code",
      "source": [
        "def criterion(predictions, targets):\n",
        "    return nn.CrossEntropyLoss()(input=predictions, target=targets)"
      ],
      "metadata": {
        "id": "gy-4at_lgmm9"
      },
      "execution_count": 16,
      "outputs": []
    },
    {
      "cell_type": "code",
      "source": [
        "optimizer = torch.optim.SGD(model.parameters(),lr=0.01, weight_decay=1e-3, momentum=0.8)"
      ],
      "metadata": {
        "id": "swb8zTI2j5Y7"
      },
      "execution_count": 17,
      "outputs": []
    },
    {
      "cell_type": "code",
      "source": [
        "# define function to create a single step of the training phase\n",
        "def make_train_step(model, criterion, optimizer):\n",
        "\n",
        "    # define the training step of the training phase\n",
        "    def train_step(X,Y):\n",
        "\n",
        "        # forward pass\n",
        "        output_logits, output_softmax = model(X)\n",
        "        predictions = torch.argmax(output_softmax,dim=1)\n",
        "        accuracy = torch.sum(Y==predictions)/float(len(Y))\n",
        "\n",
        "        # compute loss on logits because nn.CrossEntropyLoss implements log softmax\n",
        "        loss = criterion(output_logits, Y)\n",
        "\n",
        "        # compute gradients for the optimizer to use\n",
        "        loss.backward()\n",
        "\n",
        "        # update network parameters based on gradient stored (by calling loss.backward())\n",
        "        optimizer.step()\n",
        "\n",
        "        # zero out gradients for next pass\n",
        "        # pytorch accumulates gradients from backwards passes (convenient for RNNs)\n",
        "        optimizer.zero_grad()\n",
        "\n",
        "        return loss.item(), accuracy*100\n",
        "    return train_step"
      ],
      "metadata": {
        "id": "oZsbTuZIj5jK"
      },
      "execution_count": 18,
      "outputs": []
    },
    {
      "cell_type": "code",
      "source": [
        "def make_validate_fnc(model,criterion):\n",
        "    def validate(X,Y):\n",
        "\n",
        "        # don't want to update any network parameters on validation passes: don't need gradient\n",
        "        # wrap in torch.no_grad to save memory and compute in validation phase:\n",
        "        with torch.no_grad():\n",
        "\n",
        "            # set model to validation phase i.e. turn off dropout and batchnorm layers\n",
        "            model.eval()\n",
        "\n",
        "            # get the model's predictions on the validation set\n",
        "            output_logits, output_softmax = model(X)\n",
        "            predictions = torch.argmax(output_softmax,dim=1)\n",
        "            print(predictions.shape, \"pred_shape\")\n",
        "            print(Y.shape, \"Y_shape\")\n",
        "\n",
        "            # calculate the mean accuracy over the entire validation set\n",
        "            accuracy = torch.sum(Y==predictions)/float(len(Y))\n",
        "\n",
        "            # compute error from logits (nn.crossentropy implements softmax)\n",
        "            loss = criterion(output_logits,Y)\n",
        "\n",
        "        return loss.item(), accuracy*100, predictions\n",
        "    return validate"
      ],
      "metadata": {
        "id": "sSf8UaILj5mQ"
      },
      "execution_count": 30,
      "outputs": []
    },
    {
      "cell_type": "code",
      "source": [
        "def make_save_checkpoint():\n",
        "    def save_checkpoint(optimizer, model, epoch, filename):\n",
        "        checkpoint_dict = {\n",
        "            'optimizer': optimizer.state_dict(),\n",
        "            'model': model.state_dict(),\n",
        "            'epoch': epoch\n",
        "        }\n",
        "        torch.save(checkpoint_dict, filename)\n",
        "    return save_checkpoint\n",
        "\n",
        "def load_checkpoint(optimizer, model, filename):\n",
        "    checkpoint_dict = torch.load(filename)\n",
        "    epoch = checkpoint_dict['epoch']\n",
        "    model.load_state_dict(checkpoint_dict['model'])\n",
        "    if optimizer is not None:\n",
        "        optimizer.load_state_dict(checkpoint_dict['optimizer'])\n",
        "    return epoch"
      ],
      "metadata": {
        "id": "fdnPTBEMj5pC"
      },
      "execution_count": 31,
      "outputs": []
    },
    {
      "cell_type": "code",
      "source": [],
      "metadata": {
        "id": "6FQU-27Qj5rM"
      },
      "execution_count": 20,
      "outputs": []
    },
    {
      "cell_type": "code",
      "source": [
        "# get training set size to calculate # iterations and minibatch indices\n",
        "train_size = X_train.shape[0]\n",
        "\n",
        "# pick minibatch size (of 32... always)\n",
        "minibatch = 32\n",
        "\n",
        "# set device to GPU\n",
        "device = 'cuda' if torch.cuda.is_available() else 'cpu'\n",
        "print(f'{device} selected')\n",
        "\n",
        "# instantiate model and move to GPU for training\n",
        "model = parallel_all_you_want(num_emotions=len(emotions_dict)).to(device)\n",
        "print('Number of trainable params: ',sum(p.numel() for p in model.parameters()) )\n",
        "\n",
        "# encountered bugs in google colab only, unless I explicitly defined optimizer in this cell...\n",
        "optimizer = torch.optim.SGD(model.parameters(),lr=0.01, weight_decay=1e-3, momentum=0.8)\n",
        "\n",
        "# instantiate the checkpoint save function\n",
        "save_checkpoint = make_save_checkpoint()\n",
        "\n",
        "# instantiate the training step function\n",
        "train_step = make_train_step(model, criterion, optimizer=optimizer)\n",
        "\n",
        "# instantiate the validation loop function\n",
        "validate = make_validate_fnc(model,criterion)\n",
        "\n",
        "# instantiate lists to hold scalar performance metrics to plot later\n",
        "train_losses=[]\n",
        "valid_losses = []\n",
        "epoch_accuracy=[]\n",
        "valid_accuracy=[]\n",
        "\n",
        "# create training loop for one complete epoch (entire training set)\n",
        "def train(optimizer, model, num_epochs, X_train, Y_train, X_valid, Y_valid):\n",
        "\n",
        "    for epoch in range(num_epochs):\n",
        "\n",
        "        # set model to train phase\n",
        "        model.train()\n",
        "\n",
        "        # shuffle entire training set in each epoch to randomize minibatch order\n",
        "        train_indices = np.random.permutation(train_size)\n",
        "\n",
        "        # shuffle the training set for each epoch:\n",
        "        X_train = X_train[train_indices,:,:,:]\n",
        "        Y_train = Y_train[train_indices]\n",
        "\n",
        "        # instantiate scalar values to keep track of progress after each epoch so we can stop training when appropriate\n",
        "        epoch_acc = 0\n",
        "        epoch_loss = 0\n",
        "        num_iterations = int(train_size / minibatch)\n",
        "\n",
        "        # create a loop for each minibatch of 32 samples:\n",
        "        for i in range(num_iterations):\n",
        "\n",
        "            # we have to track and update minibatch position for the current minibatch\n",
        "            # if we take a random batch position from a set, we almost certainly will skip some of the data in that set\n",
        "            # track minibatch position based on iteration number:\n",
        "            batch_start = i * minibatch\n",
        "            # ensure we don't go out of the bounds of our training set:\n",
        "            batch_end = min(batch_start + minibatch, train_size)\n",
        "            # ensure we don't have an index error\n",
        "            actual_batch_size = batch_end-batch_start\n",
        "\n",
        "            # get training minibatch with all channnels and 2D feature dims\n",
        "            X = X_train[batch_start:batch_end,:,:,:]\n",
        "            # get training minibatch labels\n",
        "            Y = Y_train[batch_start:batch_end]\n",
        "\n",
        "            # instantiate training tensors\n",
        "            X_tensor = torch.tensor(X, device=device).float()\n",
        "            Y_tensor = torch.tensor(Y, dtype=torch.long,device=device)\n",
        "\n",
        "            # Pass input tensors thru 1 training step (fwd+backwards pass)\n",
        "            loss, acc = train_step(X_tensor,Y_tensor)\n",
        "\n",
        "            # aggregate batch accuracy to measure progress of entire epoch\n",
        "            epoch_acc += acc * actual_batch_size / train_size\n",
        "            epoch_loss += loss * actual_batch_size / train_size\n",
        "\n",
        "            # keep track of the iteration to see if the model's too slow\n",
        "            print('\\r'+f'Epoch {epoch+1}: iteration {i}/{num_iterations}',end='')\n",
        "\n",
        "        # create tensors from validation set\n",
        "        X_valid_tensor = torch.tensor(X_valid,device=device).float()\n",
        "        Y_valid_tensor = torch.tensor(Y_valid,dtype=torch.long,device=device)\n",
        "        print(X_valid_tensor.shape)\n",
        "        print(Y_valid_tensor.shape)\n",
        "        # calculate validation metrics to keep track of progress; don't need predictions now\n",
        "        valid_loss, valid_acc, _ = validate(X_valid_tensor,Y_valid_tensor)\n",
        "\n",
        "        # accumulate scalar performance metrics at each epoch to track and plot later\n",
        "        train_losses.append(epoch_loss)\n",
        "        valid_losses.append(valid_loss)\n",
        "        epoch_accuracy.append(epoch_acc)\n",
        "        valid_accuracy.append(valid_acc)\n",
        "\n",
        "\n",
        "\n",
        "        # Save checkpoint of the model\n",
        "        checkpoint_filename = './checkpoints/parallel_all_you_wantFINAL-{:03d}.pkl'.format(epoch)\n",
        "        save_checkpoint(optimizer, model, epoch, checkpoint_filename)\n",
        "\n",
        "\n",
        "        # keep track of each epoch's progress\n",
        "        print(f'\\nEpoch {epoch+1} --- loss:{epoch_loss:.3f}, Epoch accuracy:{epoch_acc:.2f}%, Validation loss:{valid_loss:.3f}, Validation accuracy:{valid_acc:.2f}%')\n"
      ],
      "metadata": {
        "id": "a8ozNvdtBp21",
        "colab": {
          "base_uri": "https://localhost:8080/"
        },
        "outputId": "36e22b1a-79ff-4a02-bff5-a3f5e76351f1"
      },
      "execution_count": 32,
      "outputs": [
        {
          "output_type": "stream",
          "name": "stdout",
          "text": [
            "cuda selected\n",
            "Number of trainable params:  248488\n"
          ]
        }
      ]
    },
    {
      "cell_type": "code",
      "source": [
        "!mkdir checkpoints"
      ],
      "metadata": {
        "colab": {
          "base_uri": "https://localhost:8080/"
        },
        "id": "9rKkHN3tke71",
        "outputId": "ab89f23c-d911-484e-df37-bb9b54758d21"
      },
      "execution_count": 33,
      "outputs": [
        {
          "output_type": "stream",
          "name": "stdout",
          "text": [
            "mkdir: cannot create directory ‘checkpoints’: File exists\n"
          ]
        }
      ]
    },
    {
      "cell_type": "code",
      "source": [
        "# choose number of epochs higher than reasonable so we can manually stop training\n",
        "num_epochs = 50\n",
        "\n",
        "# train it!\n",
        "train(optimizer, model, num_epochs, X_train, y_train, X_valid, y_valid)"
      ],
      "metadata": {
        "colab": {
          "base_uri": "https://localhost:8080/"
        },
        "id": "eyPazEvmke_A",
        "outputId": "bfb76a10-b57f-461c-ed1e-d2cd37c708d8"
      },
      "execution_count": 34,
      "outputs": [
        {
          "output_type": "stream",
          "name": "stdout",
          "text": [
            "Epoch 1: iteration 34/35torch.Size([143, 1, 40, 282])\n",
            "torch.Size([143])\n",
            "torch.Size([143]) pred_shape\n",
            "torch.Size([143]) Y_shape\n",
            "\n",
            "Epoch 1 --- loss:4.130, Epoch accuracy:20.58%, Validation loss:2.050, Validation accuracy:24.48%\n",
            "Epoch 2: iteration 34/35torch.Size([143, 1, 40, 282])\n",
            "torch.Size([143])\n",
            "torch.Size([143]) pred_shape\n",
            "torch.Size([143]) Y_shape\n",
            "\n",
            "Epoch 2 --- loss:1.789, Epoch accuracy:31.91%, Validation loss:1.983, Validation accuracy:30.77%\n",
            "Epoch 3: iteration 34/35torch.Size([143, 1, 40, 282])\n",
            "torch.Size([143])\n",
            "torch.Size([143]) pred_shape\n",
            "torch.Size([143]) Y_shape\n",
            "\n",
            "Epoch 3 --- loss:1.708, Epoch accuracy:34.79%, Validation loss:1.835, Validation accuracy:30.77%\n",
            "Epoch 4: iteration 34/35torch.Size([143, 1, 40, 282])\n",
            "torch.Size([143])\n",
            "torch.Size([143]) pred_shape\n",
            "torch.Size([143]) Y_shape\n",
            "\n",
            "Epoch 4 --- loss:1.627, Epoch accuracy:38.19%, Validation loss:2.020, Validation accuracy:27.97%\n",
            "Epoch 5: iteration 34/35torch.Size([143, 1, 40, 282])\n",
            "torch.Size([143])\n",
            "torch.Size([143]) pred_shape\n",
            "torch.Size([143]) Y_shape\n",
            "\n",
            "Epoch 5 --- loss:1.541, Epoch accuracy:41.33%, Validation loss:1.592, Validation accuracy:40.56%\n",
            "Epoch 6: iteration 34/35torch.Size([143, 1, 40, 282])\n",
            "torch.Size([143])\n",
            "torch.Size([143]) pred_shape\n",
            "torch.Size([143]) Y_shape\n",
            "\n",
            "Epoch 6 --- loss:1.485, Epoch accuracy:41.41%, Validation loss:1.745, Validation accuracy:40.56%\n",
            "Epoch 7: iteration 34/35torch.Size([143, 1, 40, 282])\n",
            "torch.Size([143])\n",
            "torch.Size([143]) pred_shape\n",
            "torch.Size([143]) Y_shape\n",
            "\n",
            "Epoch 7 --- loss:1.416, Epoch accuracy:46.82%, Validation loss:1.602, Validation accuracy:41.96%\n",
            "Epoch 8: iteration 34/35torch.Size([143, 1, 40, 282])\n",
            "torch.Size([143])\n",
            "torch.Size([143]) pred_shape\n",
            "torch.Size([143]) Y_shape\n",
            "\n",
            "Epoch 8 --- loss:1.399, Epoch accuracy:46.21%, Validation loss:1.469, Validation accuracy:37.76%\n",
            "Epoch 9: iteration 34/35torch.Size([143, 1, 40, 282])\n",
            "torch.Size([143])\n",
            "torch.Size([143]) pred_shape\n",
            "torch.Size([143]) Y_shape\n",
            "\n",
            "Epoch 9 --- loss:1.322, Epoch accuracy:49.96%, Validation loss:1.423, Validation accuracy:45.45%\n",
            "Epoch 10: iteration 34/35torch.Size([143, 1, 40, 282])\n",
            "torch.Size([143])\n",
            "torch.Size([143]) pred_shape\n",
            "torch.Size([143]) Y_shape\n",
            "\n",
            "Epoch 10 --- loss:1.296, Epoch accuracy:49.00%, Validation loss:1.504, Validation accuracy:40.56%\n",
            "Epoch 11: iteration 34/35torch.Size([143, 1, 40, 282])\n",
            "torch.Size([143])\n",
            "torch.Size([143]) pred_shape\n",
            "torch.Size([143]) Y_shape\n",
            "\n",
            "Epoch 11 --- loss:1.217, Epoch accuracy:53.62%, Validation loss:1.445, Validation accuracy:44.06%\n",
            "Epoch 12: iteration 34/35torch.Size([143, 1, 40, 282])\n",
            "torch.Size([143])\n",
            "torch.Size([143]) pred_shape\n",
            "torch.Size([143]) Y_shape\n",
            "\n",
            "Epoch 12 --- loss:1.163, Epoch accuracy:55.45%, Validation loss:1.392, Validation accuracy:46.15%\n",
            "Epoch 13: iteration 34/35torch.Size([143, 1, 40, 282])\n",
            "torch.Size([143])\n",
            "torch.Size([143]) pred_shape\n",
            "torch.Size([143]) Y_shape\n",
            "\n",
            "Epoch 13 --- loss:1.099, Epoch accuracy:57.19%, Validation loss:1.455, Validation accuracy:45.45%\n",
            "Epoch 14: iteration 34/35torch.Size([143, 1, 40, 282])\n",
            "torch.Size([143])\n",
            "torch.Size([143]) pred_shape\n",
            "torch.Size([143]) Y_shape\n",
            "\n",
            "Epoch 14 --- loss:1.124, Epoch accuracy:56.84%, Validation loss:1.528, Validation accuracy:49.65%\n",
            "Epoch 15: iteration 34/35torch.Size([143, 1, 40, 282])\n",
            "torch.Size([143])\n",
            "torch.Size([143]) pred_shape\n",
            "torch.Size([143]) Y_shape\n",
            "\n",
            "Epoch 15 --- loss:1.149, Epoch accuracy:55.71%, Validation loss:1.365, Validation accuracy:47.55%\n",
            "Epoch 16: iteration 34/35torch.Size([143, 1, 40, 282])\n",
            "torch.Size([143])\n",
            "torch.Size([143]) pred_shape\n",
            "torch.Size([143]) Y_shape\n",
            "\n",
            "Epoch 16 --- loss:1.103, Epoch accuracy:58.15%, Validation loss:1.548, Validation accuracy:48.25%\n",
            "Epoch 17: iteration 34/35torch.Size([143, 1, 40, 282])\n",
            "torch.Size([143])\n",
            "torch.Size([143]) pred_shape\n",
            "torch.Size([143]) Y_shape\n",
            "\n",
            "Epoch 17 --- loss:1.037, Epoch accuracy:59.46%, Validation loss:1.302, Validation accuracy:47.55%\n",
            "Epoch 18: iteration 34/35torch.Size([143, 1, 40, 282])\n",
            "torch.Size([143])\n",
            "torch.Size([143]) pred_shape\n",
            "torch.Size([143]) Y_shape\n",
            "\n",
            "Epoch 18 --- loss:1.014, Epoch accuracy:60.59%, Validation loss:1.494, Validation accuracy:45.45%\n",
            "Epoch 19: iteration 34/35torch.Size([143, 1, 40, 282])\n",
            "torch.Size([143])\n",
            "torch.Size([143]) pred_shape\n",
            "torch.Size([143]) Y_shape\n",
            "\n",
            "Epoch 19 --- loss:0.984, Epoch accuracy:61.90%, Validation loss:1.405, Validation accuracy:46.85%\n",
            "Epoch 20: iteration 34/35torch.Size([143, 1, 40, 282])\n",
            "torch.Size([143])\n",
            "torch.Size([143]) pred_shape\n",
            "torch.Size([143]) Y_shape\n",
            "\n",
            "Epoch 20 --- loss:0.961, Epoch accuracy:63.21%, Validation loss:1.378, Validation accuracy:51.05%\n",
            "Epoch 21: iteration 34/35torch.Size([143, 1, 40, 282])\n",
            "torch.Size([143])\n",
            "torch.Size([143]) pred_shape\n",
            "torch.Size([143]) Y_shape\n",
            "\n",
            "Epoch 21 --- loss:0.919, Epoch accuracy:63.73%, Validation loss:1.392, Validation accuracy:51.75%\n",
            "Epoch 22: iteration 34/35torch.Size([143, 1, 40, 282])\n",
            "torch.Size([143])\n",
            "torch.Size([143]) pred_shape\n",
            "torch.Size([143]) Y_shape\n",
            "\n",
            "Epoch 22 --- loss:0.918, Epoch accuracy:64.43%, Validation loss:1.404, Validation accuracy:48.95%\n",
            "Epoch 23: iteration 34/35torch.Size([143, 1, 40, 282])\n",
            "torch.Size([143])\n",
            "torch.Size([143]) pred_shape\n",
            "torch.Size([143]) Y_shape\n",
            "\n",
            "Epoch 23 --- loss:0.917, Epoch accuracy:64.08%, Validation loss:1.374, Validation accuracy:47.55%\n",
            "Epoch 24: iteration 34/35torch.Size([143, 1, 40, 282])\n",
            "torch.Size([143])\n",
            "torch.Size([143]) pred_shape\n",
            "torch.Size([143]) Y_shape\n",
            "\n",
            "Epoch 24 --- loss:0.852, Epoch accuracy:66.09%, Validation loss:1.468, Validation accuracy:48.25%\n",
            "Epoch 25: iteration 34/35torch.Size([143, 1, 40, 282])\n",
            "torch.Size([143])\n",
            "torch.Size([143]) pred_shape\n",
            "torch.Size([143]) Y_shape\n",
            "\n",
            "Epoch 25 --- loss:0.863, Epoch accuracy:65.13%, Validation loss:1.347, Validation accuracy:51.75%\n",
            "Epoch 26: iteration 34/35torch.Size([143, 1, 40, 282])\n",
            "torch.Size([143])\n",
            "torch.Size([143]) pred_shape\n",
            "torch.Size([143]) Y_shape\n",
            "\n",
            "Epoch 26 --- loss:0.838, Epoch accuracy:67.31%, Validation loss:1.473, Validation accuracy:48.95%\n",
            "Epoch 27: iteration 34/35torch.Size([143, 1, 40, 282])\n",
            "torch.Size([143])\n",
            "torch.Size([143]) pred_shape\n",
            "torch.Size([143]) Y_shape\n",
            "\n",
            "Epoch 27 --- loss:0.796, Epoch accuracy:68.35%, Validation loss:1.514, Validation accuracy:46.85%\n",
            "Epoch 28: iteration 34/35torch.Size([143, 1, 40, 282])\n",
            "torch.Size([143])\n",
            "torch.Size([143]) pred_shape\n",
            "torch.Size([143]) Y_shape\n",
            "\n",
            "Epoch 28 --- loss:0.785, Epoch accuracy:68.53%, Validation loss:1.434, Validation accuracy:48.25%\n",
            "Epoch 29: iteration 34/35torch.Size([143, 1, 40, 282])\n",
            "torch.Size([143])\n",
            "torch.Size([143]) pred_shape\n",
            "torch.Size([143]) Y_shape\n",
            "\n",
            "Epoch 29 --- loss:0.790, Epoch accuracy:68.96%, Validation loss:1.465, Validation accuracy:50.35%\n",
            "Epoch 30: iteration 34/35torch.Size([143, 1, 40, 282])\n",
            "torch.Size([143])\n",
            "torch.Size([143]) pred_shape\n",
            "torch.Size([143]) Y_shape\n",
            "\n",
            "Epoch 30 --- loss:0.763, Epoch accuracy:69.05%, Validation loss:1.431, Validation accuracy:48.25%\n",
            "Epoch 31: iteration 34/35torch.Size([143, 1, 40, 282])\n",
            "torch.Size([143])\n",
            "torch.Size([143]) pred_shape\n",
            "torch.Size([143]) Y_shape\n",
            "\n",
            "Epoch 31 --- loss:0.704, Epoch accuracy:72.89%, Validation loss:1.493, Validation accuracy:47.55%\n",
            "Epoch 32: iteration 34/35torch.Size([143, 1, 40, 282])\n",
            "torch.Size([143])\n",
            "torch.Size([143]) pred_shape\n",
            "torch.Size([143]) Y_shape\n",
            "\n",
            "Epoch 32 --- loss:0.716, Epoch accuracy:70.79%, Validation loss:1.351, Validation accuracy:49.65%\n",
            "Epoch 33: iteration 34/35torch.Size([143, 1, 40, 282])\n",
            "torch.Size([143])\n",
            "torch.Size([143]) pred_shape\n",
            "torch.Size([143]) Y_shape\n",
            "\n",
            "Epoch 33 --- loss:0.671, Epoch accuracy:73.06%, Validation loss:1.396, Validation accuracy:56.64%\n",
            "Epoch 34: iteration 34/35torch.Size([143, 1, 40, 282])\n",
            "torch.Size([143])\n",
            "torch.Size([143]) pred_shape\n",
            "torch.Size([143]) Y_shape\n",
            "\n",
            "Epoch 34 --- loss:0.683, Epoch accuracy:71.93%, Validation loss:1.393, Validation accuracy:53.85%\n",
            "Epoch 35: iteration 34/35torch.Size([143, 1, 40, 282])\n",
            "torch.Size([143])\n",
            "torch.Size([143]) pred_shape\n",
            "torch.Size([143]) Y_shape\n",
            "\n",
            "Epoch 35 --- loss:0.630, Epoch accuracy:76.02%, Validation loss:1.361, Validation accuracy:54.55%\n",
            "Epoch 36: iteration 34/35torch.Size([143, 1, 40, 282])\n",
            "torch.Size([143])\n",
            "torch.Size([143]) pred_shape\n",
            "torch.Size([143]) Y_shape\n",
            "\n",
            "Epoch 36 --- loss:0.625, Epoch accuracy:74.19%, Validation loss:1.477, Validation accuracy:54.55%\n",
            "Epoch 37: iteration 34/35torch.Size([143, 1, 40, 282])\n",
            "torch.Size([143])\n",
            "torch.Size([143]) pred_shape\n",
            "torch.Size([143]) Y_shape\n",
            "\n",
            "Epoch 37 --- loss:0.636, Epoch accuracy:74.80%, Validation loss:1.365, Validation accuracy:55.94%\n",
            "Epoch 38: iteration 34/35torch.Size([143, 1, 40, 282])\n",
            "torch.Size([143])\n",
            "torch.Size([143]) pred_shape\n",
            "torch.Size([143]) Y_shape\n",
            "\n",
            "Epoch 38 --- loss:0.684, Epoch accuracy:73.15%, Validation loss:1.579, Validation accuracy:53.15%\n",
            "Epoch 39: iteration 34/35torch.Size([143, 1, 40, 282])\n",
            "torch.Size([143])\n",
            "torch.Size([143]) pred_shape\n",
            "torch.Size([143]) Y_shape\n",
            "\n",
            "Epoch 39 --- loss:0.597, Epoch accuracy:75.24%, Validation loss:1.435, Validation accuracy:50.35%\n",
            "Epoch 40: iteration 34/35torch.Size([143, 1, 40, 282])\n",
            "torch.Size([143])\n",
            "torch.Size([143]) pred_shape\n",
            "torch.Size([143]) Y_shape\n",
            "\n",
            "Epoch 40 --- loss:0.614, Epoch accuracy:75.59%, Validation loss:1.392, Validation accuracy:54.55%\n",
            "Epoch 41: iteration 34/35torch.Size([143, 1, 40, 282])\n",
            "torch.Size([143])\n",
            "torch.Size([143]) pred_shape\n",
            "torch.Size([143]) Y_shape\n",
            "\n",
            "Epoch 41 --- loss:0.541, Epoch accuracy:78.29%, Validation loss:1.458, Validation accuracy:52.45%\n",
            "Epoch 42: iteration 34/35torch.Size([143, 1, 40, 282])\n",
            "torch.Size([143])\n",
            "torch.Size([143]) pred_shape\n",
            "torch.Size([143]) Y_shape\n",
            "\n",
            "Epoch 42 --- loss:0.558, Epoch accuracy:78.12%, Validation loss:1.525, Validation accuracy:51.75%\n",
            "Epoch 43: iteration 34/35torch.Size([143, 1, 40, 282])\n",
            "torch.Size([143])\n",
            "torch.Size([143]) pred_shape\n",
            "torch.Size([143]) Y_shape\n",
            "\n",
            "Epoch 43 --- loss:0.542, Epoch accuracy:78.47%, Validation loss:1.541, Validation accuracy:55.94%\n",
            "Epoch 44: iteration 34/35torch.Size([143, 1, 40, 282])\n",
            "torch.Size([143])\n",
            "torch.Size([143]) pred_shape\n",
            "torch.Size([143]) Y_shape\n",
            "\n",
            "Epoch 44 --- loss:0.582, Epoch accuracy:77.59%, Validation loss:1.501, Validation accuracy:53.15%\n",
            "Epoch 45: iteration 34/35torch.Size([143, 1, 40, 282])\n",
            "torch.Size([143])\n",
            "torch.Size([143]) pred_shape\n",
            "torch.Size([143]) Y_shape\n",
            "\n",
            "Epoch 45 --- loss:0.522, Epoch accuracy:80.21%, Validation loss:1.435, Validation accuracy:58.04%\n",
            "Epoch 46: iteration 34/35torch.Size([143, 1, 40, 282])\n",
            "torch.Size([143])\n",
            "torch.Size([143]) pred_shape\n",
            "torch.Size([143]) Y_shape\n",
            "\n",
            "Epoch 46 --- loss:0.575, Epoch accuracy:77.77%, Validation loss:1.490, Validation accuracy:51.05%\n",
            "Epoch 47: iteration 34/35torch.Size([143, 1, 40, 282])\n",
            "torch.Size([143])\n",
            "torch.Size([143]) pred_shape\n",
            "torch.Size([143]) Y_shape\n",
            "\n",
            "Epoch 47 --- loss:0.504, Epoch accuracy:80.47%, Validation loss:1.467, Validation accuracy:51.05%\n",
            "Epoch 48: iteration 34/35torch.Size([143, 1, 40, 282])\n",
            "torch.Size([143])\n",
            "torch.Size([143]) pred_shape\n",
            "torch.Size([143]) Y_shape\n",
            "\n",
            "Epoch 48 --- loss:0.463, Epoch accuracy:81.43%, Validation loss:1.307, Validation accuracy:59.44%\n",
            "Epoch 49: iteration 34/35torch.Size([143, 1, 40, 282])\n",
            "torch.Size([143])\n",
            "torch.Size([143]) pred_shape\n",
            "torch.Size([143]) Y_shape\n",
            "\n",
            "Epoch 49 --- loss:0.458, Epoch accuracy:82.65%, Validation loss:1.376, Validation accuracy:55.24%\n",
            "Epoch 50: iteration 34/35torch.Size([143, 1, 40, 282])\n",
            "torch.Size([143])\n",
            "torch.Size([143]) pred_shape\n",
            "torch.Size([143]) Y_shape\n",
            "\n",
            "Epoch 50 --- loss:0.441, Epoch accuracy:81.17%, Validation loss:1.530, Validation accuracy:55.94%\n"
          ]
        }
      ]
    },
    {
      "cell_type": "code",
      "source": [],
      "metadata": {
        "id": "6_9wTW7NlAGf"
      },
      "execution_count": null,
      "outputs": []
    },
    {
      "cell_type": "code",
      "source": [
        "plt.title('Loss Curve')\n",
        "plt.ylabel('Loss', fontsize=16)\n",
        "plt.xlabel('Epoch', fontsize=16)\n",
        "plt.plot(train_losses[:],'b')\n",
        "plt.plot(valid_losses[:],'r')\n",
        "plt.legend(['Training loss','Validation loss'])\n",
        "plt.show()"
      ],
      "metadata": {
        "colab": {
          "base_uri": "https://localhost:8080/",
          "height": 504
        },
        "id": "lkJm6QnkkfBo",
        "outputId": "cc878e54-9bed-4c71-ad1f-c381a5ac3233"
      },
      "execution_count": 35,
      "outputs": [
        {
          "output_type": "display_data",
          "data": {
            "text/plain": [
              "<Figure size 640x480 with 1 Axes>"
            ],
            "image/png": "[encoded data removed]"
          },
          "metadata": {}
        }
      ]
    },
    {
      "cell_type": "code",
      "source": [
        "epoch_accuracy = torch.tensor(epoch_accuracy)\n",
        "valid_accuracy = torch.tensor(valid_accuracy)\n",
        "plt.title(' Accuracy Curve ')\n",
        "plt.ylabel('Accuracy', fontsize=16)\n",
        "plt.xlabel('Epoch', fontsize=16)\n",
        "plt.plot(epoch_accuracy[:],'r')\n",
        "plt.plot(valid_accuracy[:],'b')\n",
        "plt.legend(['Epoch accuracy','Validation accuracy'])\n",
        "\n",
        "plt.show()"
      ],
      "metadata": {
        "colab": {
          "base_uri": "https://localhost:8080/",
          "height": 504
        },
        "id": "NrJ1G3Z2kiux",
        "outputId": "9f9f4a5b-b127-416f-e24a-11ea51c523d1"
      },
      "execution_count": 36,
      "outputs": [
        {
          "output_type": "display_data",
          "data": {
            "text/plain": [
              "<Figure size 640x480 with 1 Axes>"
            ],
            "image/png": "[encoded data removed]"
          },
          "metadata": {}
        }
      ]
    },
    {
      "cell_type": "code",
      "source": [
        "# pick load folder  /content/checkpoints\n",
        "load_folder = '/content/checkpoints'\n",
        "\n",
        "# pick the epoch to load\n",
        "epoch = '049'\n",
        "model_name = f'parallel_all_you_wantFINAL-{epoch}.pkl'\n",
        "\n",
        "# make full load path\n",
        "load_path = os.path.join(load_folder, model_name)\n",
        "\n",
        "## instantiate empty model and populate with params from binary\n",
        "model = parallel_all_you_want(len(emotions_dict))\n",
        "load_checkpoint(optimizer, model, load_path)\n",
        "\n",
        "print(f'Loaded model from {load_path}')"
      ],
      "metadata": {
        "colab": {
          "base_uri": "https://localhost:8080/"
        },
        "id": "3o_wZ-wmkiyo",
        "outputId": "339af6cd-4dbd-42dd-9fbc-00c900b7ae1e"
      },
      "execution_count": 37,
      "outputs": [
        {
          "output_type": "stream",
          "name": "stdout",
          "text": [
            "Loaded model from /content/checkpoints/parallel_all_you_wantFINAL-049.pkl\n"
          ]
        }
      ]
    },
    {
      "cell_type": "code",
      "source": [
        "if torch.cuda.is_available():\n",
        "    model.cuda()"
      ],
      "metadata": {
        "id": "p0o_EMjrki2w"
      },
      "execution_count": 38,
      "outputs": []
    },
    {
      "cell_type": "code",
      "source": [
        "# reinitialize validation function with model from chosen checkpoint\n",
        "validate = make_validate_fnc(model,criterion)\n",
        "\n",
        "# Convert 4D test feature set array to tensor and move to GPU\n",
        "X_test_tensor = torch.tensor(X_test,device=device).float()\n",
        "# Convert 4D test label set array to tensor and move to GPU\n",
        "y_test_tensor = torch.tensor(y_test,dtype=torch.long,device=device)\n",
        "\n",
        "# Get the model's performance metrics using the validation function we defined\n",
        "test_loss, test_acc, predicted_emotions = validate(X_test_tensor,y_test_tensor)\n",
        "\n",
        "print(f'Test accuracy is {test_acc:.2f}%')"
      ],
      "metadata": {
        "colab": {
          "base_uri": "https://localhost:8080/"
        },
        "id": "Qh1PJLXEki6H",
        "outputId": "79464da6-6092-446a-8cd5-185d3d172077"
      },
      "execution_count": 39,
      "outputs": [
        {
          "output_type": "stream",
          "name": "stdout",
          "text": [
            "torch.Size([150]) pred_shape\n",
            "torch.Size([150]) Y_shape\n",
            "Test accuracy is 60.00%\n"
          ]
        }
      ]
    },
    {
      "cell_type": "code",
      "source": [
        "from sklearn.metrics import confusion_matrix\n",
        "import seaborn as sn\n",
        "\n",
        "# because model tested on GPU, move prediction tensor to CPU then convert to array\n",
        "predicted_emotions = predicted_emotions.cpu().numpy()\n",
        "# use labels from test set\n",
        "emotions_groundtruth = y_test\n",
        "\n",
        "# build confusion matrix and normalized confusion matrix\n",
        "conf_matrix = confusion_matrix(emotions_groundtruth, predicted_emotions)\n",
        "conf_matrix_norm = confusion_matrix(emotions_groundtruth, predicted_emotions,normalize='true')\n",
        "\n",
        "# set labels for matrix axes from emotions\n",
        "emotion_names = [emotion for emotion in emotions_dict.values()]\n",
        "\n",
        "# make a confusion matrix with labels using a DataFrame\n",
        "confmatrix_df = pd.DataFrame(conf_matrix, index=emotion_names, columns=emotion_names)\n",
        "confmatrix_df_norm = pd.DataFrame(conf_matrix_norm, index=emotion_names, columns=emotion_names)\n",
        "\n",
        "# plot confusion matrices\n",
        "plt.figure(figsize=(16,6))\n",
        "sn.set(font_scale=1.8) # emotion label and title size\n",
        "plt.subplot(1,2,1)\n",
        "plt.title('Confusion Matrix')\n",
        "sn.heatmap(confmatrix_df, annot=True, annot_kws={\"size\": 18}) #annot_kws is value font\n",
        "plt.subplot(1,2,2)\n",
        "plt.title('Normalized Confusion Matrix')\n",
        "sn.heatmap(confmatrix_df_norm, annot=True, annot_kws={\"size\": 13}) #annot_kws is value font\n",
        "\n",
        "plt.show()"
      ],
      "metadata": {
        "colab": {
          "base_uri": "https://localhost:8080/",
          "height": 560
        },
        "id": "27oRqk1Wki8M",
        "outputId": "225e3a8f-8ee9-4b80-da87-18ae63db2a96"
      },
      "execution_count": 40,
      "outputs": [
        {
          "output_type": "display_data",
          "data": {
            "text/plain": [
              "<Figure size 1600x600 with 4 Axes>"
            ],
            "image/png": "[encoded data removed]"
          },
          "metadata": {}
        }
      ]
    },
    {
      "cell_type": "code",
      "source": [
        "import numpy as np\n",
        "\n",
        "# Convert the DataFrame to a NumPy array\n",
        "confusion_matrix = confmatrix_df_norm.to_numpy()\n",
        "\n",
        "# Calculate True Positives, False Positives, False Negatives from the confusion matrix\n",
        "true_positives = np.diag(confusion_matrix)\n",
        "false_positives = np.sum(confusion_matrix, axis=0) - true_positives\n",
        "false_negatives = np.sum(confusion_matrix, axis=1) - true_positives\n",
        "\n",
        "# Calculate Precision, Recall, F1 Score\n",
        "precision = true_positives / (true_positives + false_positives)\n",
        "recall = true_positives / (true_positives + false_negatives)\n",
        "f1_score = 2 * (precision * recall) / (precision + recall)\n",
        "\n",
        "# Calculate True Negatives from the confusion matrix\n",
        "true_negatives = np.sum(confusion_matrix) - (true_positives + false_positives + false_negatives)\n",
        "\n",
        "# Calculate Matthews Correlation Coefficient (MCC)\n",
        "mcc = (true_positives * true_negatives - false_positives * false_negatives) / np.sqrt((true_positives + false_positives) * (true_positives + false_negatives) * (true_negatives + false_positives) * (true_negatives + false_negatives))\n",
        "\n",
        "print(\"Precision:\", precision)\n",
        "print(\"Recall:\", recall)\n",
        "print(\"F1 Score:\", f1_score)\n",
        "print(\"MCC:\", mcc)\n"
      ],
      "metadata": {
        "colab": {
          "base_uri": "https://localhost:8080/"
        },
        "id": "IYLXQ-qmlCTU",
        "outputId": "385feb99-897b-4736-ddd3-818ee924066e"
      },
      "execution_count": 41,
      "outputs": [
        {
          "output_type": "stream",
          "name": "stdout",
          "text": [
            "Precision: [0.875      0.83333333 0.66666667 0.5        0.57142857 0.77777778\n",
            " 0.40909091 0.48      ]\n",
            "Recall: [0.7  0.5  0.7  0.25 0.4  0.7  0.9  0.6 ]\n",
            "F1 Score: [0.77777778 0.625      0.68292683 0.33333333 0.47058824 0.73684211\n",
            " 0.5625     0.53333333]\n",
            "MCC: [0.75592895 0.6098716  0.63661274 0.29277002 0.4180041  0.70274604\n",
            " 0.52904869 0.46192603]\n"
          ]
        }
      ]
    },
    {
      "cell_type": "code",
      "source": [
        "from sklearn.metrics import precision_score, recall_score\n",
        "from sklearn.metrics import f1_score, matthews_corrcoef\n",
        "\n",
        "\n",
        "\n",
        "# Calculate F1 score with averaging\n",
        "f1_micro = f1_score(emotions_groundtruth, predicted_emotions, average='micro')\n",
        "f1_macro = f1_score(emotions_groundtruth, predicted_emotions, average='macro')\n",
        "f1_weighted = f1_score(emotions_groundtruth, predicted_emotions, average='weighted')\n",
        "\n",
        "# Calculate MCC\n",
        "mcc = matthews_corrcoef(emotions_groundtruth, predicted_emotions)\n",
        "\n",
        "# Print the F1 score and MCCemotions\n",
        "print(\"F1 micro:\", f1_micro)\n",
        "print(\"F1 macro:\", f1_macro)\n",
        "print(\"F1 weighted:\", f1_weighted)\n",
        "print(\"MCC:\",mcc)\n",
        "# Calculate precision with averaging\n",
        "precision_micro = precision_score(emotions_groundtruth, predicted_emotions, average='micro')\n",
        "precision_macro = precision_score(emotions_groundtruth, predicted_emotions, average='macro')\n",
        "precision_weighted = precision_score(emotions_groundtruth, predicted_emotions, average='weighted')\n",
        "\n",
        "# Calculate recall with averaging\n",
        "recall_micro = recall_score(emotions_groundtruth, predicted_emotions, average='micro')\n",
        "recall_macro = recall_score(emotions_groundtruth, predicted_emotions, average='macro')\n",
        "recall_weighted = recall_score(emotions_groundtruth, predicted_emotions, average='weighted')\n",
        "\n",
        "# Print precision and recall\n",
        "print(\"Precision micro:\", precision_micro)\n",
        "print(\"Precision macro:\", precision_macro)\n",
        "print(\"Precision weighted:\", precision_weighted)\n",
        "print(\"Recall micro:\", recall_micro)\n",
        "print(\"Recall macro:\", recall_macro)\n",
        "print(\"Recall weighted:\", recall_weighted)"
      ],
      "metadata": {
        "colab": {
          "base_uri": "https://localhost:8080/"
        },
        "id": "_ACfJpwIlCXC",
        "outputId": "4dc76b8e-4903-40a3-95e8-d147d00f2e9c"
      },
      "execution_count": 42,
      "outputs": [
        {
          "output_type": "stream",
          "name": "stdout",
          "text": [
            "F1 micro: 0.6\n",
            "F1 macro: 0.5933920877606585\n",
            "F1 weighted: 0.593735874003526\n",
            "MCC: 0.5497346117509921\n",
            "Precision micro: 0.6\n",
            "Precision macro: 0.638877442002442\n",
            "Precision weighted: 0.6338502238502238\n",
            "Recall micro: 0.6\n",
            "Recall macro: 0.59375\n",
            "Recall weighted: 0.6\n"
          ]
        }
      ]
    }
  ]
}